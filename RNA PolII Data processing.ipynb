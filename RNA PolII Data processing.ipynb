{
 "cells": [
  {
   "cell_type": "markdown",
   "metadata": {},
   "source": [
    "# Clean data, normalise and concatenate plugin results for different images.\n",
    "\n",
    "Each plugin saves .csv files with results for each image in seperate file. This script is used to concantenate, remove outliers and sclae results of different images. "
   ]
  },
  {
   "cell_type": "code",
   "execution_count": 1,
   "metadata": {},
   "outputs": [
    {
     "name": "stderr",
     "output_type": "stream",
     "text": [
      "Loading required package: spam\n",
      "Loading required package: dotCall64\n",
      "Loading required package: grid\n",
      "Warning message in FUN(X[[i]], ...):\n",
      "“failed to assign RegisteredNativeSymbol for toeplitz to toeplitz since toeplitz is already defined in the ‘spam’ namespace”Spam version 2.1-1 (2017-07-02) is loaded.\n",
      "Type 'help( Spam)' or 'demo( spam)' for a short introduction \n",
      "and overview of this package.\n",
      "Help for individual functions is also obtained by adding the\n",
      "suffix '.spam' to the function name, e.g. 'help( chol.spam)'.\n",
      "\n",
      "Attaching package: ‘spam’\n",
      "\n",
      "The following objects are masked from ‘package:base’:\n",
      "\n",
      "    backsolve, forwardsolve\n",
      "\n",
      "\n",
      "Attaching package: ‘reshape2’\n",
      "\n",
      "The following objects are masked from ‘package:data.table’:\n",
      "\n",
      "    dcast, melt\n",
      "\n"
     ]
    }
   ],
   "source": [
    "library(matrixStats) # rowMins()\n",
    "require( spam) #to calculate distances\n",
    "library(data.table)\n",
    "library(ggplot2)\n",
    "library(reshape2)"
   ]
  },
  {
   "cell_type": "markdown",
   "metadata": {},
   "source": [
    "### CalculateSpotDistance()\n",
    "* Calculate distance between spots\n",
    "\n",
    "### CalculateSpotSurfaceDistance()\n",
    "* Calculate distances between spots and surfaces"
   ]
  },
  {
   "cell_type": "code",
   "execution_count": 2,
   "metadata": {
    "collapsed": true
   },
   "outputs": [],
   "source": [
    "#Create function to calcualte distances for a postiion table\n",
    "CalculateSpotDistance<-function(PositionTableX, PositionTableY, DistanceThreshold, fileName, plotType){\n",
    "  #Calculate nearest distance\n",
    "  #Here Posistion Y: DATA1, because we collect @entries with @colindices\n",
    "  ds <- nearest.dist(x=PositionTableX, y=PositionTableY, method = \"euclidean\", delta=DistanceThreshold, upper=NULL)\n",
    "  #Plot histogram = optional\n",
    "    ##for linux\n",
    "  tiff(paste(\"/home/nani/Documents/Plots/\", fileName,\"_\",plotType ,\".tiff\", sep=\"\"))\n",
    "    ##for windows Z:\\\\Result0309\\\\s20_Wt\"\n",
    "  #tiff(paste(\"C:\\\\Documents\\Plots\\\\\", fileName,\"_\",plotType ,\".tiff\", sep=\"\"))\n",
    "    ########\n",
    "  hist(diff( ds@entries),main=paste(\"Distances frequency within delta - \", plotType, sep=\"\"), sub=fileName)\n",
    "  dev.off() \n",
    "  #Get data frame containing min, max, mean distance to next point and number of spots close by (below delta threshold)\n",
    "  ds@colindices<-ds@colindices[ds@entries>0]\n",
    "  ds@entries<-ds@entries[ds@entries>0]\n",
    "  dt <- as.data.table(ds@colindices)[, list(list(ds@entries[.I])), by = ds@colindices]\n",
    "  CollectDist <- data.frame(SpotId = unlist(dt$`ds@colindices`),\n",
    "                            NumbSpot = unlist(dt[,list(lapply(V1,length))]),\n",
    "                            MeanDist = unlist(dt[,list(lapply(V1,mean))]),\n",
    "                            MinDist = unlist(dt[,list(lapply(V1,min))]), \n",
    "                            MaxDist = unlist(dt[,list(lapply(V1,max))])\n",
    "  )\n",
    "  colnames(CollectDist)<-c(\"SpotId\", \"NumbSpot\", \"MeanDist\", \"MinDist\", \"MaxDist\")\n",
    "  CollectDist\n",
    "}\n",
    "\n",
    "#Calculate distance from each surface = set a high delta\n",
    "CalculateSpotSurfaceDistance<-function(SpotPosition, SurfacePosition, SurfaceFeat){\n",
    "  #Note: Here delta is set a high value 100: I want all the distances\n",
    "  #STEP1 : Calculate the distance to center of masses of nucleus, of the nucleolus and all the chromocenters\n",
    "  FirstTab<-SurfacePosition[1:2,] #this table contains postions for Nucleus and nucleolus only\n",
    "  CC<-SurfacePosition[3:nrow(SurfacePosition),] #this one for the CC\n",
    "  CCF<-SurfaceFeat[3:nrow(SurfaceFeat),] #Get CC features\n",
    "  meanCC<-colMeans(CC) #calculate average position for all CC\n",
    "  FirstTab<-rbind(FirstTab, meanCC)\n",
    "  ds <- nearest.dist(x=SpotPosition, y=FirstTab, method = \"euclidean\", delta=100, upper=NULL)\n",
    "  ds <-data.frame(as.matrix(ds))\n",
    "  #STEP2: Get minimum distance spot-CC for each spot\n",
    "  ds2 <- nearest.dist(x=SpotPosition, y=CC, method = \"euclidean\", delta=100, upper=NULL)\n",
    "  MinDistance <- rowMins(as.matrix(ds2))\n",
    "  MinDistanceIndex <- as.matrix(apply( ds2, 1, which.min)) #I need the index as well to get features of the closest CC\n",
    "  rm(ds2)\n",
    "  ds<-cbind(ds, MinDistance)\n",
    "  FeatVect<-CCF[MinDistanceIndex,]\n",
    "  rownames(FeatVect)<-seq(1, nrow(FeatVect))\n",
    "  ds<-cbind(ds, FeatVect)\n",
    "  colnames(ds)<-c(\"Nucleus\", \"Nucleolus\", \"MeanCC\", \"ClosestCC\",paste0(names(FeatVect), \"CC\"))\n",
    "  ds$SpotId <- seq(1, nrow(ds)) #Since I transform spam into a matrix, I get the row = SpotId\n",
    "  ds\n",
    "}\n",
    "clamp <- function(x, xmax) { ifelse(x<=xmax, x, xmax) }"
   ]
  },
  {
   "cell_type": "markdown",
   "metadata": {},
   "source": [
    "### ProcessOneImage()\n",
    "* Read both spot position and intensity data from simualted (from <b>XTSimulateRandomSpots.py</b>) and observed (from <b>XTCountSpotPerShell.py</b>) spots for each image and concatenate them\n",
    "* Calculate distance between spots\n",
    "* Read surface result (from <b>XTSegmentNuclei.py</b>) and calculate distance between surfaces and spots\n",
    "* Add nucleus and nucleolus features to data frame\n",
    "* Replace outliers\n",
    "* Scale data specific for each spot\n",
    "* Return resulting data frame\n"
   ]
  },
  {
   "cell_type": "code",
   "execution_count": 21,
   "metadata": {
    "collapsed": true
   },
   "outputs": [],
   "source": [
    "ProcessOneImage<-function(MotherFolder, ImageId,ImageIdVert, FileName, DataType, IsLinux){\n",
    "  MaskId <- 1 # Only processing spots simulated outside of the CC and nucleolus\n",
    "  isSimulated<-DataType==\"Simulated\"\n",
    "  BaseFolder <- ifelse(isSimulated,\"XTSimulateRandomSpots_Result\", \"XTCountSpotPerShell_Result\" )\n",
    "  SimPath <- paste(MotherFolder,BaseFolder, sep=ifelse(IsLinux, \"/\", \"\\\\\"))\n",
    "  n <- 3 #declaring number of segemented channels\n",
    "  delta <- 0.2 #declaring the highest distance threshold for distance between foci\n",
    "  vdelta <- 1 #declaring the highest distance threshold for distance between surface vertices and foci, higher than 1um I get iteration and memory allocation error\n",
    "  #STEP1: READ POSITION AND INTENSITY FOR EACH FOCI\n",
    "  Data1 <- data.frame(matrix(,nrow=0, ncol=3)) #will contain positions of spots\n",
    "  Intensity <- data.frame(matrix(,nrow=0, ncol=n+1)) #will contain intensities of spots (n+DAPI)\n",
    "  SimN <- c()#vector to keep track of simulation ID / segmentation channel\n",
    "  CollectSepSpots <- as.list(rep(\"\", n))\n",
    "  ListSegChan <-c() #vector to keep track of segmentation channel for observed spots, =0 for simulated ones\n",
    "  Spottype <- ifelse(isSimulated, -1,1) #keep track of difference between simulated and segmented spots\n",
    "  for (ch in seq(0,n-1)) #This loop over the different channels/simulations (total: 3)\n",
    "    {      \n",
    "    Fname <- ifelse(isSimulated, \n",
    "                    paste0(\"Position_SP0_ST\",MaskId , \"_Sml\",ch,\"_Sim_10000_\", ImageId,\".csv\"),\n",
    "                    paste0(\"Position_SP\",ch , \"_Obs_\", ImageId,\".csv\")) \n",
    "    FilePath <- paste(SimPath, Fname, sep=ifelse(IsLinux, \"/\", \"\\\\\")) \n",
    "    Spots <- read.csv(file=FilePath, header = TRUE, sep = \",\")\n",
    "    if (isSimulated)\n",
    "    {#in XTSimulateRandomSpots_Result, Position df is transposed\n",
    "        Spots <- as.data.frame(t(Spots)) \n",
    "    }\n",
    "    Fname <- ifelse(isSimulated,\n",
    "                    paste0(\"Intensity_SP0_ST\",MaskId , \"_Sml\",ch,\"_Sim_10000_\", ImageId,\".csv\"),\n",
    "                    paste0(\"Intensity_SP\",ch , \"_Obs_\", ImageId,\".csv\"))\n",
    "    FilePath <- paste(SimPath, Fname, sep=ifelse(IsLinux, \"/\", \"\\\\\")) \n",
    "    Int <- read.csv(file=FilePath, header = TRUE, sep = \",\")\n",
    "    if (DataType==\"Segmented\")\n",
    "    {#make sure I don't have any artifact segmentation \n",
    "        Spots <- Spots[Int[[ch+1]]>0, ] \n",
    "        Int <- Int[Int[[ch+1]]>0, ]  \n",
    "    } \n",
    "    print(paste0(\"Sp\", dim(Spots)))\n",
    "    Data1 <- rbind(Data1, Spots)\n",
    "    print(paste0(\"Sp\", dim(Int)))\n",
    "    Intensity <- rbind(Intensity, Int)\n",
    "    SimN <- c(SimN, rep(Spottype*(ch+1),nrow(Int))) \n",
    "    SegChan <- ifelse(rep(isSimulated,nrow(Int)),\n",
    "                      rep(0,nrow(Int)),\n",
    "                      Int[[ch+1]])\n",
    "    ListSegChan <- c(ListSegChan, SegChan) \n",
    "    CollectSepSpots[[ch+1]] <- Spots\n",
    "    rm(Int, Spots) #Free RAM\n",
    "    print(ch)\n",
    "  }\n",
    "  names(Intensity) <- paste0(\"IntensityCh\", seq(0,n))\n",
    "  Intensity$FociType <- SimN\n",
    "  Intensity$SegmentChannel <- ListSegChan\n",
    "  Intensity$SpotId <- seq(1, nrow(Data1))ListSegChan\n",
    "  rm(ListSegChan, SimN) #Free RAM  \n",
    "  #STEP2: CALCULATE DISTANCE BETWEEN EACH SPOT AND SURFACES\n",
    "  for (surfName in c(\"Nucleus\",\"Chromocenters\",\"Nucleolus\")){\n",
    "    ColName <- paste0(surfName, \"Dist\")\n",
    "    Fname <- paste0(\"XTGetSurfaceVertices_Result/\", surfName, \" Vertices_\",ImageIdVert,\".csv\")\n",
    "    FilePath <- paste(MotherFolder,Fname, sep=ifelse(IsLinux, \"/\", \"\\\\\"))\n",
    "    Vertices <- read.csv(file=FilePath, header = TRUE, sep = \",\")\n",
    "    res<-CalculateSpotDistance(Vertices, Data1, vdelta, FileName, surfName) \n",
    "    Features <- paste0(surfName, c(\"_NumbSpot\",\"_MeanDist\", \"_MinDist\", \"_MaxDist\"))\n",
    "    colnames(res) <- c(\"SpotId\", Features)\n",
    "    Intensity <- merge(Intensity, res,by = \"SpotId\", all.x=TRUE)\n",
    "    rm(Vertices) #Free RAM  \n",
    "    print(surfName)\n",
    "  }\n",
    "  #STEP3: CALCULATE DISTANCE BETWEEN FOCI\n",
    "  for (ch in seq(1, n))\n",
    "    {\n",
    "    res<-CalculateSpotDistance(CollectSepSpots[[ch]], Data1, delta, FileName, paste(\"Channel\", ch,sep=\"\"))\n",
    "    Features <- paste0(paste0(\"Sp\", ch), c(\"NumbSpot\",\"MeanDist\", \"MinDist\", \"MaxDist\"))\n",
    "    colnames(res) <- c(\"SpotId\", Features)\n",
    "    Intensity <- merge(Intensity, res, all=TRUE)\n",
    "  }\n",
    "  rm(CollectSepSpots, res) #free RAM space\n",
    "  #STEP4 : CALCULATE DISTANCE BETWEEN EACH SPOT AND CENTER OF MASS OF EACH SURFACE\n",
    "  Fname <- paste0(\"SurfaceFeatures_\",ImageId ,\".csv\")  \n",
    "  FilePath <- paste(SimPath, Fname, sep=ifelse(IsLinux, \"/\", \"\\\\\")) \n",
    "  Surface <- read.csv(file=FilePath, header = TRUE, sep = \",\")\n",
    "  Pos <- Surface[2:4]\n",
    "  Feat <- Surface[5:9]\n",
    "  SurfSPot<-CalculateSpotSurfaceDistance(Data1, Pos, Feat)\n",
    "  Intensity<- merge(Intensity, SurfSPot, all=TRUE)\n",
    "  rm(SurfSPot, Pos,  Surface, Data1) #Free RAM\n",
    "  #STEP5: ADD COLUMNS WITH NUCLEUS AND NUCLEOLUS FEATURES\n",
    "  NucleusF<-Feat[rep(1, nrow(Intensity)),] #this table contains nucleus features \n",
    "  names(NucleusF)<-paste0(\"N1\", names(NucleusF))\n",
    "  Intensity<-cbind(Intensity, NucleusF)\n",
    "  NucleusF<-Feat[rep(2, nrow(Intensity)),] #this table contains nucleolus features\n",
    "  names(NucleusF)<-paste0(\"N2\", names(NucleusF))\n",
    "  Intensity<-cbind(Intensity, NucleusF)\n",
    "  Intensity$File=FileName\n",
    "  rm(NucleusF)\n",
    "  #STEP6: REMOVE OUTLIERS\n",
    "  drops <- c(\"SpotId\",\"FociType\", 'File') \n",
    "  IntensityRf<-Intensity[ , !(names(Intensity) %in% drops)]\n",
    "  Intensity.quantiles <- apply(IntensityRf, 2, function(x, prob=0.9) { quantile(x, prob, names=F, na.rm=TRUE) })\n",
    "  for (j in 1:ncol(IntensityRf)) {\n",
    "      IntensityRf[,j] <- clamp(IntensityRf[,j], Intensity.quantiles[j])  \n",
    "  }\n",
    "  Intensity<-cbind(Intensity[ , (names(Intensity) %in% drops)], IntensityRf)\n",
    "  rm(Intensity.quantiles, IntensityRf)\n",
    "  #STEP7: SCALE NUMERIC SPOT FEATURES\n",
    "  drops <- c(\"SpotId\",\"FociType\",'N1Volume','N1IntensityCh0','N1IntensityCh1', 'N1IntensityCh2', 'N1IntensityCh3', 'N2Volume','N2IntensityCh0','N2IntensityCh1', 'N2IntensityCh2','N2IntensityCh3', 'File',\"Sp1MeanDist\", \"Sp1MinDist\", \"Sp1MaxDist\", \"Sp2MeanDist\", \"Sp2MinDist\", \"Sp2MaxDist\", \"Sp3MeanDist\", \"Sp3MinDist\", \"Sp3MaxDist\") # these features are not to be scaled per image\n",
    "  NormDf<-Intensity[ , !(names(Intensity) %in% drops)]\n",
    "  NormDf<-as.data.frame(scale(NormDf))\n",
    "  Intensity<-cbind(Intensity[ , (names(Intensity) %in% drops)], NormDf)\n",
    "  Intensity\n",
    "}"
   ]
  },
  {
   "cell_type": "markdown",
   "metadata": {},
   "source": [
    "## Step 1 : Test run on one image"
   ]
  },
  {
   "cell_type": "code",
   "execution_count": 6,
   "metadata": {
    "scrolled": true
   },
   "outputs": [
    {
     "name": "stdout",
     "output_type": "stream",
     "text": [
      "[1] 0\n",
      "[1] 1\n",
      "[1] 2\n"
     ]
    }
   ],
   "source": [
    "FolderPath= #*Add folder path*\n",
    "Index_of_observed_Image=#*Add existing index example*\n",
    "Index_of_simulated_Image=#*Add existing index example*\n",
    "IsLinux = # TRUE for linux or Mac, FALSE for Windows*\n",
    "res<-ProcessOneImage(FolderPath, Index_of_observed_Image,Index_of_simulated_Image, \"FileName\",\"Segmented\", IsLinux)\n",
    "head(res)"
   ]
  },
  {
   "cell_type": "markdown",
   "metadata": {},
   "source": [
    "### SelectFiles()\n",
    "* Read the all the filenames in all folders \n",
    "* Select only filenames that has both simulated (from <b>XTSimulateRandomSpots.py</b>) and observed data (from <b>XTCountSpotPerShell.py</b>)\n",
    "* Read ploidy result (from <b>XTNucleiPloidy.py</b>)\n",
    "* Select results of images contained in both XTSimulateRandomSpots_Result and XTCountSpotPerShell_Result\n",
    "* Save a .csv file containing two columns: filenames and ploidy index\n"
   ]
  },
  {
   "cell_type": "code",
   "execution_count": 19,
   "metadata": {
    "collapsed": true
   },
   "outputs": [],
   "source": [
    "SelectFiles <- function(FolderPath, IsLinux)\n",
    "    {\n",
    "      Data1 <- data.frame(matrix(,nrow=0, ncol=2)) #will contain positions of spots\n",
    "      for (SubFolder in c(1,2,3,4,5))\n",
    "        {\n",
    "        FilePath<- paste(MotherFolder,SubFolder,  \"XTCountSpotPerShell_Result\",\"FileName.csv\" , sep=ifelse(IsLinux, \"/\", \"\\\\\")) \n",
    "        OBsdf <- read.csv(file=FilePath, header = TRUE, sep = \",\")\n",
    "        FilePath<- paste(MotherFolder,SubFolder,  \"XTSimulateRandomSpots_Result\",\"FileName.csv\" , sep=ifelse(IsLinux, \"/\", \"\\\\\")) \n",
    "        Simdf <- read.csv(file=FilePath, header = TRUE, sep = \",\")\n",
    "        df<-merge(OBsdf, Simdf, all = FALSE)\n",
    "        df$FolderID<-SubFolder\n",
    "        Data1<-rbind(Data1, df)\n",
    "      }\n",
    "    names(Data1)<-c(\"FileName\", \"FolderID\")\n",
    "    FilePath<- paste(MotherFolder,\"XTNucleiPloidy_Result\", \"XTNucleiPloidy_Result.csv\" , sep=ifelse(IsLinux, \"/\", \"\\\\\"))\n",
    "    PLoidyDf <- read.csv(file=FilePath, header = TRUE, sep = \",\")\n",
    "    Data1<-merge(Data1, PLoidyDf, all = FALSE)\n",
    "    Data1<-Data1[, names(Data1)%in%c(\"FileName\",\"FolderID\", \"ClusterId\")]\n",
    "    Data1\n",
    "}"
   ]
  },
  {
   "cell_type": "code",
   "execution_count": 22,
   "metadata": {
    "collapsed": true
   },
   "outputs": [],
   "source": [
    "FileName<-SelectFiles(FolderPath, IsLinux)\n",
    "FilePath=paste(FolderPath, \"FileNames.csv\", sep=ifelse(IsLinux, \"/\", \"\\\\\"))\n",
    "write.csv(FileName, file = FilePath, quote=FALSE, row.names = FALSE)"
   ]
  },
  {
   "cell_type": "markdown",
   "metadata": {},
   "source": [
    "## Step 2 : Manually rate the segmentation quality good (true) bad (false)\n",
    "* Open FileNames.csv, add a column SegmentationOk\n",
    "* index the segmentation quality (TRUE/FALSE) based on the snapshots in XTCountSpotPerShell.py"
   ]
  },
  {
   "cell_type": "code",
   "execution_count": 9,
   "metadata": {},
   "outputs": [
    {
     "data": {
      "text/html": [
       "<table>\n",
       "<thead><tr><th scope=col>FileName</th><th scope=col>ClusterId</th><th scope=col>SegmentationOk</th><th scope=col>FolderID</th></tr></thead>\n",
       "<tbody>\n",
       "\t<tr><td>s20_wt_aa_series005.ims</td><td>P0                     </td><td>1                      </td><td>1                      </td></tr>\n",
       "\t<tr><td>s20_wt_ab_series006.ims</td><td>P0                     </td><td>1                      </td><td>1                      </td></tr>\n",
       "\t<tr><td>s20_wt_ac_series007.ims</td><td>P0                     </td><td>1                      </td><td>1                      </td></tr>\n",
       "\t<tr><td>s20_wt_ad_series008.ims</td><td>P0                     </td><td>1                      </td><td>1                      </td></tr>\n",
       "\t<tr><td>s20_wt_ae_series009.ims</td><td>P0                     </td><td>1                      </td><td>1                      </td></tr>\n",
       "\t<tr><td>s20_wt_am_series017.ims</td><td>P0                     </td><td>1                      </td><td>2                      </td></tr>\n",
       "</tbody>\n",
       "</table>\n"
      ],
      "text/latex": [
       "\\begin{tabular}{r|llll}\n",
       " FileName & ClusterId & SegmentationOk & FolderID\\\\\n",
       "\\hline\n",
       "\t s20\\_wt\\_aa\\_series005.ims & P0                            & 1                             & 1                            \\\\\n",
       "\t s20\\_wt\\_ab\\_series006.ims & P0                            & 1                             & 1                            \\\\\n",
       "\t s20\\_wt\\_ac\\_series007.ims & P0                            & 1                             & 1                            \\\\\n",
       "\t s20\\_wt\\_ad\\_series008.ims & P0                            & 1                             & 1                            \\\\\n",
       "\t s20\\_wt\\_ae\\_series009.ims & P0                            & 1                             & 1                            \\\\\n",
       "\t s20\\_wt\\_am\\_series017.ims & P0                            & 1                             & 2                            \\\\\n",
       "\\end{tabular}\n"
      ],
      "text/markdown": [
       "\n",
       "FileName | ClusterId | SegmentationOk | FolderID | \n",
       "|---|---|---|---|---|---|\n",
       "| s20_wt_aa_series005.ims | P0                      | 1                       | 1                       | \n",
       "| s20_wt_ab_series006.ims | P0                      | 1                       | 1                       | \n",
       "| s20_wt_ac_series007.ims | P0                      | 1                       | 1                       | \n",
       "| s20_wt_ad_series008.ims | P0                      | 1                       | 1                       | \n",
       "| s20_wt_ae_series009.ims | P0                      | 1                       | 1                       | \n",
       "| s20_wt_am_series017.ims | P0                      | 1                       | 2                       | \n",
       "\n",
       "\n"
      ],
      "text/plain": [
       "  FileName                ClusterId SegmentationOk FolderID\n",
       "1 s20_wt_aa_series005.ims P0        1              1       \n",
       "2 s20_wt_ab_series006.ims P0        1              1       \n",
       "3 s20_wt_ac_series007.ims P0        1              1       \n",
       "4 s20_wt_ad_series008.ims P0        1              1       \n",
       "5 s20_wt_ae_series009.ims P0        1              1       \n",
       "6 s20_wt_am_series017.ims P0        1              2       "
      ]
     },
     "metadata": {},
     "output_type": "display_data"
    }
   ],
   "source": [
    "FilePath=paste(FolderPath, \"FileNames.csv\", sep=IsLinux) \n",
    "SelectedIMages <- read.csv(file=FilePath, header = TRUE, sep = \",\")\n",
    "head(SelectedIMages)"
   ]
  },
  {
   "cell_type": "code",
   "execution_count": 11,
   "metadata": {
    "scrolled": false
   },
   "outputs": [
    {
     "data": {
      "text/html": [
       "<table>\n",
       "<thead><tr><th scope=col>FileName</th><th scope=col>ClusterId</th><th scope=col>FolderID</th></tr></thead>\n",
       "<tbody>\n",
       "\t<tr><td>s20_wt_aa_series005.ims</td><td>P0                     </td><td>1                      </td></tr>\n",
       "\t<tr><td>s20_wt_ab_series006.ims</td><td>P0                     </td><td>1                      </td></tr>\n",
       "\t<tr><td>s20_wt_ac_series007.ims</td><td>P0                     </td><td>1                      </td></tr>\n",
       "\t<tr><td>s20_wt_ad_series008.ims</td><td>P0                     </td><td>1                      </td></tr>\n",
       "\t<tr><td>s20_wt_ae_series009.ims</td><td>P0                     </td><td>1                      </td></tr>\n",
       "\t<tr><td>s20_wt_am_series017.ims</td><td>P0                     </td><td>2                      </td></tr>\n",
       "</tbody>\n",
       "</table>\n"
      ],
      "text/latex": [
       "\\begin{tabular}{r|lll}\n",
       " FileName & ClusterId & FolderID\\\\\n",
       "\\hline\n",
       "\t s20\\_wt\\_aa\\_series005.ims & P0                            & 1                            \\\\\n",
       "\t s20\\_wt\\_ab\\_series006.ims & P0                            & 1                            \\\\\n",
       "\t s20\\_wt\\_ac\\_series007.ims & P0                            & 1                            \\\\\n",
       "\t s20\\_wt\\_ad\\_series008.ims & P0                            & 1                            \\\\\n",
       "\t s20\\_wt\\_ae\\_series009.ims & P0                            & 1                            \\\\\n",
       "\t s20\\_wt\\_am\\_series017.ims & P0                            & 2                            \\\\\n",
       "\\end{tabular}\n"
      ],
      "text/markdown": [
       "\n",
       "FileName | ClusterId | FolderID | \n",
       "|---|---|---|---|---|---|\n",
       "| s20_wt_aa_series005.ims | P0                      | 1                       | \n",
       "| s20_wt_ab_series006.ims | P0                      | 1                       | \n",
       "| s20_wt_ac_series007.ims | P0                      | 1                       | \n",
       "| s20_wt_ad_series008.ims | P0                      | 1                       | \n",
       "| s20_wt_ae_series009.ims | P0                      | 1                       | \n",
       "| s20_wt_am_series017.ims | P0                      | 2                       | \n",
       "\n",
       "\n"
      ],
      "text/plain": [
       "  FileName                ClusterId FolderID\n",
       "1 s20_wt_aa_series005.ims P0        1       \n",
       "2 s20_wt_ab_series006.ims P0        1       \n",
       "3 s20_wt_ac_series007.ims P0        1       \n",
       "4 s20_wt_ad_series008.ims P0        1       \n",
       "5 s20_wt_ae_series009.ims P0        1       \n",
       "6 s20_wt_am_series017.ims P0        2       "
      ]
     },
     "metadata": {},
     "output_type": "display_data"
    }
   ],
   "source": [
    "### Here only images index True for SegmentationOk are selected\n",
    "SelectedIMages<-SelectedIMages[SelectedIMages$SegmentationOk==1, names(SelectedIMages)%in%c(\"FileName\", \"ClusterId\", \"FolderID\")]\n",
    "\n",
    "head(SelectedIMages)"
   ]
  },
  {
   "cell_type": "markdown",
   "metadata": {},
   "source": [
    "### ProcessOneFOlder()\n",
    "* Process results of each images, contained in each subfolder in list list_of_folders stored under HighPath\n",
    "* Select files in FileNames.csv\n"
   ]
  },
  {
   "cell_type": "code",
   "execution_count": 70,
   "metadata": {
    "collapsed": true
   },
   "outputs": [],
   "source": [
    "ProcessOneFOlder<-function(HightPath, SelectedIMages, list_of_folders, DataType, IsLinux){\n",
    "  MaskID <- 1 #I only process spots that are simulated outside of chromocenters and nucleolus\n",
    "  for (highFol in list_of_folders)\n",
    "    {\n",
    "    Result <- data.frame(matrix(,nrow=0, ncol=51)) #will contain intensities of spots (n+DAPI)\n",
    "    #GET FILENAMES IN filename FILE CONTAINING ALL FILES AND THEIR PLODY ID\n",
    "    MotherFolder <- paste(HightPath, highFol, sep=ifelse(IsLinux, \"/\", \"\\\\\"))\n",
    "    AllImagesInFolder <- SelectedIMages$FileName[SelectedIMages$FolderID==highFol]  \n",
    "    #GET FILENAME IN PLUGIN XTSimulateRandomSpots_Result FOLDER\n",
    "    BasePath <-ifelse(DataType==\"Simulated\",\"XTSimulateRandomSpots_Result\", \"XTCountSpotPerShell_Result\")\n",
    "    FilePath<- paste(MotherFolder,BasePath,\"FileName.csv\", sep=ifelse(IsLinux, \"/\", \"\\\\\"))\n",
    "    FileName <- read.csv(file=FilePath, header = TRUE, sep = \",\")\n",
    "    FileNameSim <- FileName$X0\n",
    "    #GET FILENAME IN PLUGIN XTGetSurfaceVertices_Result FOLDER\n",
    "    FilePath<- paste(MotherFolder,\"XTGetSurfaceVertices_Result\",\"FileName.csv\", sep=ifelse(IsLinux, \"/\", \"\\\\\"))\n",
    "    FileName <- read.csv(file=FilePath, header = TRUE, sep = \",\")\n",
    "    FileNameVert <- FileName$X0\n",
    "    for(ImageId in AllImagesInFolder){\n",
    "        SimID <- match(ImageId,FileNameSim)\n",
    "        ImageIdVert <- match(ImageId,FileNameVert)\n",
    "        res<-ProcessOneImage(MotherFolder, SimID,ImageIdVert, ImageId, DataType, IsLinux)\n",
    "        Result<-rbind(Result, res)\n",
    "        rm(res)\n",
    "      }\n",
    "    Nmes <- paste0(\"MLResult_\", DataType, \".csv\")\n",
    "    FilePath <- paste(MotherFolder, Nmes, sep=ifelse(IsLinux, \"/\", \"\\\\\"))\n",
    "    write.csv(Result, file = FilePath, quote=FALSE, row.names = FALSE) \n",
    "    rm(Result)\n",
    "    }\n",
    "  }\n"
   ]
  },
  {
   "cell_type": "markdown",
   "metadata": {},
   "source": [
    "## Step 3: Run batch process"
   ]
  },
  {
   "cell_type": "code",
   "execution_count": 71,
   "metadata": {},
   "outputs": [
    {
     "name": "stdout",
     "output_type": "stream",
     "text": [
      "[1] \"Sp10000\" \"Sp3\"    \n",
      "[1] \"Sp10000\" \"Sp4\"    \n",
      "[1] 0\n",
      "[1] \"Sp10000\" \"Sp3\"    \n",
      "[1] \"Sp10000\" \"Sp4\"    \n",
      "[1] 1\n",
      "[1] \"Sp10000\" \"Sp3\"    \n",
      "[1] \"Sp10000\" \"Sp4\"    \n",
      "[1] 2\n",
      "[1] \"Sp10000\" \"Sp3\"    \n",
      "[1] \"Sp10000\" \"Sp4\"    \n",
      "[1] 0\n",
      "[1] \"Sp10000\" \"Sp3\"    \n",
      "[1] \"Sp10000\" \"Sp4\"    \n",
      "[1] 1\n",
      "[1] \"Sp10000\" \"Sp3\"    \n",
      "[1] \"Sp10000\" \"Sp4\"    \n",
      "[1] 2\n",
      "[1] \"Sp10000\" \"Sp3\"    \n",
      "[1] \"Sp10000\" \"Sp4\"    \n",
      "[1] 0\n",
      "[1] \"Sp10000\" \"Sp3\"    \n",
      "[1] \"Sp10000\" \"Sp4\"    \n",
      "[1] 1\n",
      "[1] \"Sp10000\" \"Sp3\"    \n",
      "[1] \"Sp10000\" \"Sp4\"    \n",
      "[1] 2\n",
      "[1] \"Sp10000\" \"Sp3\"    \n",
      "[1] \"Sp10000\" \"Sp4\"    \n",
      "[1] 0\n",
      "[1] \"Sp10000\" \"Sp3\"    \n",
      "[1] \"Sp10000\" \"Sp4\"    \n",
      "[1] 1\n",
      "[1] \"Sp10000\" \"Sp3\"    \n",
      "[1] \"Sp10000\" \"Sp4\"    \n",
      "[1] 2\n",
      "[1] \"Sp10000\" \"Sp3\"    \n",
      "[1] \"Sp10000\" \"Sp4\"    \n",
      "[1] 0\n",
      "[1] \"Sp10000\" \"Sp3\"    \n",
      "[1] \"Sp10000\" \"Sp4\"    \n",
      "[1] 1\n",
      "[1] \"Sp10000\" \"Sp3\"    \n",
      "[1] \"Sp10000\" \"Sp4\"    \n",
      "[1] 2\n",
      "[1] \"Sp10000\" \"Sp3\"    \n",
      "[1] \"Sp10000\" \"Sp4\"    \n",
      "[1] 0\n",
      "[1] \"Sp10000\" \"Sp3\"    \n",
      "[1] \"Sp10000\" \"Sp4\"    \n",
      "[1] 1\n",
      "[1] \"Sp10000\" \"Sp3\"    \n",
      "[1] \"Sp10000\" \"Sp4\"    \n",
      "[1] 2\n",
      "[1] \"Sp10000\" \"Sp3\"    \n",
      "[1] \"Sp10000\" \"Sp4\"    \n",
      "[1] 0\n",
      "[1] \"Sp10000\" \"Sp3\"    \n",
      "[1] \"Sp10000\" \"Sp4\"    \n",
      "[1] 1\n",
      "[1] \"Sp10000\" \"Sp3\"    \n",
      "[1] \"Sp10000\" \"Sp4\"    \n",
      "[1] 2\n",
      "[1] \"Sp10000\" \"Sp3\"    \n",
      "[1] \"Sp10000\" \"Sp4\"    \n",
      "[1] 0\n",
      "[1] \"Sp10000\" \"Sp3\"    \n",
      "[1] \"Sp10000\" \"Sp4\"    \n",
      "[1] 1\n",
      "[1] \"Sp10000\" \"Sp3\"    \n",
      "[1] \"Sp10000\" \"Sp4\"    \n",
      "[1] 2\n",
      "[1] \"Sp10000\" \"Sp3\"    \n",
      "[1] \"Sp10000\" \"Sp4\"    \n",
      "[1] 0\n",
      "[1] \"Sp10000\" \"Sp3\"    \n",
      "[1] \"Sp10000\" \"Sp4\"    \n",
      "[1] 1\n",
      "[1] \"Sp10000\" \"Sp3\"    \n",
      "[1] \"Sp10000\" \"Sp4\"    \n",
      "[1] 2\n",
      "[1] \"Sp10000\" \"Sp3\"    \n",
      "[1] \"Sp10000\" \"Sp4\"    \n",
      "[1] 0\n",
      "[1] \"Sp10000\" \"Sp3\"    \n",
      "[1] \"Sp10000\" \"Sp4\"    \n",
      "[1] 1\n",
      "[1] \"Sp10000\" \"Sp3\"    \n",
      "[1] \"Sp10000\" \"Sp4\"    \n",
      "[1] 2\n"
     ]
    }
   ],
   "source": [
    "list_of_folders=#*Add vector of folder names saved under FolderPath here* \n",
    "Spot_type = #*\"Simulated\" for simulates spots or \"Segmented\" for segmented spots*\n",
    "ProcessOneFOlder(FolderPath, SelectedIMages, list_of_folders, Spot_type, OS_Specifc_seperator)"
   ]
  },
  {
   "cell_type": "code",
   "execution_count": null,
   "metadata": {
    "collapsed": true
   },
   "outputs": [],
   "source": []
  }
 ],
 "metadata": {
  "kernelspec": {
   "display_name": "Python 2",
   "language": "python",
   "name": "python2"
  },
  "language_info": {
   "codemirror_mode": {
    "name": "ipython",
    "version": 2
   },
   "file_extension": ".py",
   "mimetype": "text/x-python",
   "name": "python",
   "nbconvert_exporter": "python",
   "pygments_lexer": "ipython2",
   "version": "2.7.13"
  }
 },
 "nbformat": 4,
 "nbformat_minor": 2
}
