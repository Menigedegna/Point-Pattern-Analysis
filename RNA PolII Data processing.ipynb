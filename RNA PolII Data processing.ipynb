{
 "cells": [
  {
   "cell_type": "code",
   "execution_count": 1,
   "metadata": {},
   "outputs": [
    {
     "name": "stderr",
     "output_type": "stream",
     "text": [
      "Loading required package: spam\n",
      "Loading required package: dotCall64\n",
      "Loading required package: grid\n",
      "Warning message in FUN(X[[i]], ...):\n",
      "“failed to assign RegisteredNativeSymbol for toeplitz to toeplitz since toeplitz is already defined in the ‘spam’ namespace”Spam version 2.1-1 (2017-07-02) is loaded.\n",
      "Type 'help( Spam)' or 'demo( spam)' for a short introduction \n",
      "and overview of this package.\n",
      "Help for individual functions is also obtained by adding the\n",
      "suffix '.spam' to the function name, e.g. 'help( chol.spam)'.\n",
      "\n",
      "Attaching package: ‘spam’\n",
      "\n",
      "The following objects are masked from ‘package:base’:\n",
      "\n",
      "    backsolve, forwardsolve\n",
      "\n",
      "\n",
      "Attaching package: ‘reshape2’\n",
      "\n",
      "The following objects are masked from ‘package:data.table’:\n",
      "\n",
      "    dcast, melt\n",
      "\n"
     ]
    }
   ],
   "source": [
    "library(matrixStats) # rowMins()\n",
    "require( spam) #to calculate distances\n",
    "library(data.table)\n",
    "library(ggplot2)\n",
    "library(reshape2)"
   ]
  },
  {
   "cell_type": "markdown",
   "metadata": {},
   "source": [
    "Functions to calculate distances:\n",
    "1. Between spots\n",
    "2. Between spots and surfaces"
   ]
  },
  {
   "cell_type": "code",
   "execution_count": 2,
   "metadata": {},
   "outputs": [],
   "source": [
    "#Create function to calcualte distances for a postiion table\n",
    "CalculateSpotDistance<-function(PositionTableX, PositionTableY, DistanceThreshold, fileName, plotType){\n",
    "  #Calculate nearest distance\n",
    "  #Here Posistion Y: DATA1, because we collect @entries with @colindices\n",
    "  ds <- nearest.dist(x=PositionTableX, y=PositionTableY, method = \"euclidean\", delta=DistanceThreshold, upper=NULL)\n",
    "  #Plot histogram = optional\n",
    "    ##for linux\n",
    "  #tiff(paste(\"/home/nani/Documents/Plots/\", fileName,\"_\",plotType ,\".tiff\", sep=\"\"))\n",
    "    ##for windows Z:\\\\Result0309\\\\s20_Wt\"\n",
    "  #tiff(paste(\"C:\\\\Documents\\Plots\\\\\", fileName,\"_\",plotType ,\".tiff\", sep=\"\"))\n",
    "    ########\n",
    "  hist(diff( ds@entries),main=paste(\"Distances frequency within delta - \", plotType, sep=\"\"), sub=fileName)\n",
    "  dev.off() \n",
    "  #Get data frame containing min, max, mean distance to next point and number of spots close by (below delta threshold)\n",
    "  ds@colindices<-ds@colindices[ds@entries>0]\n",
    "  ds@entries<-ds@entries[ds@entries>0]\n",
    "  dt <- as.data.table(ds@colindices)[, list(list(ds@entries[.I])), by = ds@colindices]\n",
    "  CollectDist <- data.frame(SpotId = unlist(dt$`ds@colindices`),\n",
    "                            NumbSpot = unlist(dt[,list(lapply(V1,length))]),\n",
    "                            MeanDist = unlist(dt[,list(lapply(V1,mean))]),\n",
    "                            MinDist = unlist(dt[,list(lapply(V1,min))]), \n",
    "                            MaxDist = unlist(dt[,list(lapply(V1,max))])\n",
    "  )\n",
    "  colnames(CollectDist)<-c(\"SpotId\", \"NumbSpot\", \"MeanDist\", \"MinDist\", \"MaxDist\")\n",
    "  CollectDist\n",
    "}\n",
    "\n",
    "#Calculate distance between each spot and a list of spots\n",
    "CalculateMinSpotSpotDistance<-function(SpotPosition, RefPos, GetIndex, vDelta){\n",
    "  ds2 <- nearest.dist(x=SpotPosition, y=RefPos, method = \"euclidean\", delta=vDelta, upper=NULL)\n",
    "  MinDistance <- as.matrix(apply(ds2,1,min))\n",
    "  if (GetIndex){\n",
    "      MinDistanceIndex <-  as.matrix(apply(ds2, 1, which.min)) #I need the index as well to get features of the closest RefPos spot  \n",
    "  }else{\n",
    "      MinDistanceIndex <- \"\" \n",
    "  }\n",
    "  list(Dist=MinDistance,Ind=MinDistanceIndex) \n",
    "}\n",
    "\n",
    "#Calculate distance from each surface = set a high delta\n",
    "CalculateSpotSurfaceDistance<-function(SpotPosition, SurfacePosition, SurfaceFeat){\n",
    "  #Note: Here delta is set a high value 100: I want all the distances\n",
    "  #STEP1 : Calculate the distance to center of masses of nucleus, of the nucleolus and all the chromocenters\n",
    "  FirstTab<-SurfacePosition[1:2,] #this table contains postions for Nucleus and nucleolus only\n",
    "  CC<-SurfacePosition[3:nrow(SurfacePosition),] #this one for the CC\n",
    "  CCF<-SurfaceFeat[3:nrow(SurfaceFeat),] #Get CC features\n",
    "  meanCC<-colMeans(CC) #calculate average position for all CC\n",
    "  FirstTab<-rbind(FirstTab, meanCC)\n",
    "  ds <- nearest.dist(x=SpotPosition, y=FirstTab, method = \"euclidean\", delta=100, upper=NULL)\n",
    "  ds <-data.frame(as.matrix(ds))\n",
    "  #STEP2: Get minimum distance spot-CC for each spot\n",
    "  Res <- CalculateMinSpotSpotDistance(SpotPosition, CC, TRUE, 5)\n",
    "  ds<-cbind(ds, Res$Dist)\n",
    "  FeatVect<-CCF[Res$Ind,]\n",
    "  rownames(FeatVect)<-seq(1, nrow(FeatVect))\n",
    "  ds<-cbind(ds, FeatVect)\n",
    "  colnames(ds)<-c(\"NucleusCMDist\", \"NucleolusCMDist\", \"MeanCCDist\", \"ClosestCCCMDist\",paste0(names(FeatVect), \"CC\"))\n",
    "  ds$SpotId <- seq(1, nrow(ds)) #Since I transform spam into a matrix, I get the row = SpotId\n",
    "  ds\n",
    "}\n",
    "\n",
    "clamp <- function(x, xmax) { ifelse(x<=xmax, x, xmax) }"
   ]
  },
  {
   "cell_type": "markdown",
   "metadata": {},
   "source": [
    "# Observed data\n",
    "## Process one image"
   ]
  },
  {
   "cell_type": "markdown",
   "metadata": {},
   "source": [
    "Process one file\n",
    "(...For one image ID=1)\n",
    "1. Read position .csv files for each spot type (SP=0,1,2): Position_SP*_Obs_1.csv\n",
    "2. Read intensity .csv files for each spot type (SP=0,1,2): Intensity_SP*_Obs_1.csv\n",
    "3. Set intensity threshold and select spots with higher intensities = Spots1,Spots2, Spots3 \n",
    "4. rbind these data frames Intensity for intensities, Data1 for position\n",
    "5. Calculate distance : CalculateSpotDistance (Data1, x) where x=c(Spots1,Spots2, Spots3) -seperately because I want to count the number of closest spots for each spot type\n",
    "6. cbind distance and intensity dataframes = Intensity\n",
    "7. Read surface features: SurfaceFeatures_1.csv \n",
    "9. Calculate distance with each surface CalculateSpotSurfaceDistance()\n",
    "10. Merge resulting table with Intensity\n",
    "11. Final table: columns= FileName, SpotType, Intensities *3channels, Distances(\"NumbSpot\", \"MeanDist\", \"MinDist\", \"MaxDist\")*3, Mask (-1: observed, 0,1), SegmentationIntensity\n",
    "12. Remove outliers from all features\n",
    "13. The following features are scaled by image: \n",
    "#[1] \"IntensityCh0\"   \"IntensityCh1\"   \"IntensityCh2\"   \"IntensityCh3\"   \"Sp1NumbSpot\"    \"Sp2NumbSpot\"    \"Sp3NumbSpot\"    \"Nucleus\"       \n",
    "#[9] \"Nucleolus\"      \"MeanCC\"         \"ClosestCC\"      \"VolumeCC\"       \"IntensityCh0CC\" \"IntensityCh1CC\" \"IntensityCh2CC\" \"IntensityCh3CC\""
   ]
  },
  {
   "cell_type": "code",
   "execution_count": 60,
   "metadata": {
    "collapsed": true
   },
   "outputs": [],
   "source": [
    "ProcessOneImage<-function(MotherFolder, ImageId, FileName){\n",
    "  n <- 3 #declaring number of segemented channels\n",
    "  delta <- 0.2 #declaring the highest distance threshold\n",
    "  #I increased delta from 0.1, because with this value on my test sample, I only get 1% spots having at least one neihboring spot\n",
    "  #STEP1: Get positions and intensities of all spots in 2 dataframes\n",
    "  Data1 <- data.frame(matrix(,nrow=0, ncol=3)) #will contain positions of spots\n",
    "  Intensity <- data.frame(matrix(,nrow=0, ncol=n+1)) #will contain intensities of spots (n+DAPI)\n",
    "  ChannelType <- c()\n",
    "  CollectSepSpots <- as.list(rep(\"\", n))\n",
    "  for (ch in seq(0,n-1))\n",
    "    {\n",
    "    FilePath <- paste(MotherFolder, \"/Position_SP\",ch , \"_Obs_\", ImageId,\".csv\", sep=\"\") #For linux\n",
    "    #FilePath <- paste(MotherFolder, \"\\\\Position_SP\",ch , \"_Obs_\", ImageId,\".csv\", sep=\"\") #For windows\n",
    "    Spots <- read.csv(file=FilePath, header = TRUE, sep = \",\")\n",
    "    FilePath <- paste(MotherFolder, \"/Intensity_SP\",ch , \"_Obs_\", ImageId,\".csv\", sep=\"\") #For linux\n",
    "    #FilePath <- paste(MotherFolder, \"\\\\Intensity_SP\",ch , \"_Obs_\", ImageId,\".csv\", sep=\"\")#For windows\n",
    "    Int <- read.csv(file=FilePath, header = TRUE, sep = \",\")\n",
    "    removeNullIntensity <- which(Int[paste(\"X\", ch+1, sep=\"\")]> 0) # keep only spots with intensity >0\n",
    "    Spots <- Spots[removeNullIntensity, ]\n",
    "    print(paste0(\"Sp\", dim(Spots)))\n",
    "    Data1 <- rbind(Data1, Spots)\n",
    "    Int <- Int[removeNullIntensity, ]\n",
    "    print(paste0(\"Sp\", dim(Int)))\n",
    "    Intensity <- rbind(Intensity, Int)\n",
    "    ChannelType <- c(ChannelType, rep(ch+1,nrow(Spots))) #vector to keep track of channel type\n",
    "    CollectSepSpots[[ch+1]] <- Spots\n",
    "    rm(Int, Spots, removeNullIntensity) #Free RAM\n",
    "    print(ch)\n",
    "  }\n",
    "  names(Intensity) = paste0(\"IntensityCh\", seq(0,n))\n",
    "  Intensity$FociType=ChannelType\n",
    "  #STEP2 : Calculate distances between spots\n",
    "  Intensity$SpotId=seq(1, nrow(Data1))\n",
    "  for (ch in seq(1, n))\n",
    "    {\n",
    "    res<-CalculateSpotDistance(CollectSepSpots[[ch]], Data1, delta, FileName, paste(\"Channel\", ch,sep=\"\"))\n",
    "    Features <- paste0(paste0(\"Sp\", ch), c(\"NumbSpot\",\"MeanDist\", \"MinDist\", \"MaxDist\"))\n",
    "    colnames(res) <- c(\"SpotId\", Features)\n",
    "    Intensity <- merge(Intensity, res, all=TRUE)\n",
    "  }\n",
    "  rm(ChannelType, CollectSepSpots, res) #free RAM space\n",
    "  #STEP3 : Read SurfaceFeatures file and calculate spot-surface distances\n",
    "  FilePath <- paste(MotherFolder, \"/SurfaceFeatures_\",ImageId ,\".csv\", sep=\"\") # for linux\n",
    "  #FilePath <- paste(MotherFolder, \"\\\\SurfaceFeatures_\",ImageId ,\".csv\", sep=\"\") #for windows\n",
    "  Surface <- read.csv(file=FilePath, header = TRUE, sep = \",\")\n",
    "  Pos <- Surface[2:4]\n",
    "  Feat <- Surface[5:9]\n",
    "  SurfSPot<-CalculateSpotSurfaceDistance(Data1, Pos, Feat)\n",
    "  Intensity<- merge(Intensity, SurfSPot, all=TRUE)\n",
    "  rm(SurfSPot, Pos,  Surface, Data1) #Free RAM\n",
    "  #STEP4: Add in columns with nucleus and nucleolus features\n",
    "  NucleusF<-Feat[rep(1, nrow(Intensity)),] #this table contains nucleus features \n",
    "  names(NucleusF)<-paste0(\"N1\", names(NucleusF))\n",
    "  Intensity<-cbind(Intensity, NucleusF)\n",
    "  NucleusF<-Feat[rep(2, nrow(Intensity)),] #this table contains nucleolus features\n",
    "  names(NucleusF)<-paste0(\"N2\", names(NucleusF))\n",
    "  Intensity<-cbind(Intensity, NucleusF)\n",
    "  Intensity$File=FileName\n",
    "  rm(NucleusF)\n",
    "  #Replace outliers with max and min values for each column\n",
    "  #Summary Data befoe clamp = optional\n",
    "  #mylist<-lapply(Intensity, summary)\n",
    "  #txtPath<-'/home/nani/Documents/Plots/SummaryBeforeClamp.txt'\n",
    "  #lapply(mylist, write, txtPath, append=TRUE) \n",
    "  drops <- c(\"SpotId\",\"FociType\", 'File') \n",
    "  IntensityRf<-Intensity[ , !(names(Intensity) %in% drops)]\n",
    "  Intensity.quantiles <- apply(IntensityRf, 2, function(x, prob=0.9) { quantile(x, prob, names=F, na.rm=TRUE) })\n",
    "  for (j in 1:ncol(IntensityRf)) {\n",
    "      IntensityRf[,j] <- clamp(IntensityRf[,j], Intensity.quantiles[j])  \n",
    "  }\n",
    "  Intensity<-cbind(Intensity[ , (names(Intensity) %in% drops)], IntensityRf)\n",
    "  rm(Intensity.quantiles, IntensityRf)\n",
    "  #Summary Data after clamp = optional \n",
    "  #mylist<-lapply(Intensity, summary)\n",
    "  #txtPath<-'/home/nani/Documents/Plots/SummaryAfterClamp.txt'\n",
    "  #lapply(mylist, write, txtPath, append=TRUE) \n",
    "  #Scale selected features\n",
    "  drops <- c(\"SpotId\",\"FociType\",'N1Volume','N1IntensityCh0','N1IntensityCh1', 'N1IntensityCh2', 'N1IntensityCh3', 'N2Volume','N2IntensityCh0','N2IntensityCh1', 'N2IntensityCh2','N2IntensityCh3', 'File',\"Sp1MeanDist\", \"Sp1MinDist\", \"Sp1MaxDist\", \"Sp2MeanDist\", \"Sp2MinDist\", \"Sp2MaxDist\", \"Sp3MeanDist\", \"Sp3MinDist\", \"Sp3MaxDist\") # these features are not to be scaled per image\n",
    "  NormDf<-Intensity[ , !(names(Intensity) %in% drops)]\n",
    "  NormDf<-as.data.frame(scale(NormDf))\n",
    "  Intensity<-cbind(Intensity[ , (names(Intensity) %in% drops)], NormDf)\n",
    "  SegmentationIntensity <- c()\n",
    "  for (ch in seq(1, n))\n",
    "  {\n",
    "    SegmentationIntensity <- c(SegmentationIntensity, Intensity[Intensity$FociType==ch,paste(\"IntensityCh\", ch, sep=\"\")])\n",
    "  }\n",
    "  Intensity$SegmentChannel <- SegmentationIntensity\n",
    "  Intensity\n",
    "}\n"
   ]
  },
  {
   "cell_type": "markdown",
   "metadata": {},
   "source": [
    "(...Test on one image)"
   ]
  },
  {
   "cell_type": "code",
   "execution_count": 30,
   "metadata": {
    "scrolled": false
   },
   "outputs": [
    {
     "name": "stdout",
     "output_type": "stream",
     "text": [
      "[1] \"Sp17493\" \"Sp3\"    \n",
      "[1] \"Sp17493\" \"Sp4\"    \n",
      "[1] 0\n",
      "[1] \"Sp3426\" \"Sp3\"   \n",
      "[1] \"Sp3426\" \"Sp4\"   \n",
      "[1] 1\n",
      "[1] \"Sp20420\" \"Sp3\"    \n",
      "[1] \"Sp20420\" \"Sp4\"    \n",
      "[1] 2\n"
     ]
    }
   ],
   "source": [
    "    ##for linux\n",
    "MotherFolder= \"/home/nani/smb4k/BOTSERV4.UZH.CH/gr_ug_ext/mashen2/Result0309/s20_Wt/1/XTCountSpotPerShell_Result\"\n",
    "    ##for windows\n",
    "#MotherFolder= \"Z:\\\\Result0309\\\\s20_Wt\"\n",
    "res<-ProcessOneImage(MotherFolder, 1, \"FileName\")"
   ]
  },
  {
   "cell_type": "code",
   "execution_count": 31,
   "metadata": {},
   "outputs": [
    {
     "name": "stdout",
     "output_type": "stream",
     "text": [
      "[1] 41339    39\n",
      " [1] \"SpotId\"         \"FociType\"       \"File\"           \"Sp1MeanDist\"   \n",
      " [5] \"Sp1MinDist\"     \"Sp1MaxDist\"     \"Sp2MeanDist\"    \"Sp2MinDist\"    \n",
      " [9] \"Sp2MaxDist\"     \"Sp3MeanDist\"    \"Sp3MinDist\"     \"Sp3MaxDist\"    \n",
      "[13] \"N1Volume\"       \"N1IntensityCh0\" \"N1IntensityCh1\" \"N1IntensityCh2\"\n",
      "[17] \"N1IntensityCh3\" \"N2Volume\"       \"N2IntensityCh0\" \"N2IntensityCh1\"\n",
      "[21] \"N2IntensityCh2\" \"N2IntensityCh3\" \"IntensityCh0\"   \"IntensityCh1\"  \n",
      "[25] \"IntensityCh2\"   \"IntensityCh3\"   \"Sp1NumbSpot\"    \"Sp2NumbSpot\"   \n",
      "[29] \"Sp3NumbSpot\"    \"Nucleus\"        \"Nucleolus\"      \"MeanCC\"        \n",
      "[33] \"ClosestCC\"      \"VolumeCC\"       \"IntensityCh0CC\" \"IntensityCh1CC\"\n",
      "[37] \"IntensityCh2CC\" \"IntensityCh3CC\" \"SegmentChannel\"\n"
     ]
    },
    {
     "data": {
      "text/html": [
       "<table>\n",
       "<thead><tr><th></th><th scope=col>SpotId</th><th scope=col>FociType</th><th scope=col>File</th><th scope=col>Sp1MeanDist</th><th scope=col>Sp1MinDist</th><th scope=col>Sp1MaxDist</th><th scope=col>Sp2MeanDist</th><th scope=col>Sp2MinDist</th><th scope=col>Sp2MaxDist</th><th scope=col>Sp3MeanDist</th><th scope=col>⋯</th><th scope=col>Nucleus</th><th scope=col>Nucleolus</th><th scope=col>MeanCC</th><th scope=col>ClosestCC</th><th scope=col>VolumeCC</th><th scope=col>IntensityCh0CC</th><th scope=col>IntensityCh1CC</th><th scope=col>IntensityCh2CC</th><th scope=col>IntensityCh3CC</th><th scope=col>SegmentChannel</th></tr></thead>\n",
       "<tbody>\n",
       "\t<tr><th scope=row>1</th><td>1         </td><td>1         </td><td>FileName  </td><td>0.1799320 </td><td>0.1772048 </td><td>0.1799320 </td><td>NA        </td><td>NA        </td><td>NA        </td><td>0.1343186 </td><td>⋯         </td><td>1.372635  </td><td>1.340133  </td><td>1.427632  </td><td> 0.3367606</td><td>2.186887  </td><td>0.645331  </td><td>0.2339479 </td><td>0.4643934 </td><td>0.4703115 </td><td>1.1299431 </td></tr>\n",
       "\t<tr><th scope=row>1.1</th><td>2         </td><td>1         </td><td>FileName  </td><td>0.1799320 </td><td>0.1772048 </td><td>0.1799320 </td><td>NA        </td><td>NA        </td><td>NA        </td><td>       NA </td><td>⋯         </td><td>1.372635  </td><td>1.340133  </td><td>1.427632  </td><td> 0.2801932</td><td>2.186887  </td><td>0.645331  </td><td>0.2339479 </td><td>0.4643934 </td><td>0.4703115 </td><td>0.9732742 </td></tr>\n",
       "\t<tr><th scope=row>1.2</th><td>3         </td><td>1         </td><td>FileName  </td><td>       NA </td><td>       NA </td><td>       NA </td><td>NA        </td><td>NA        </td><td>NA        </td><td>0.1810282 </td><td>⋯         </td><td>1.372635  </td><td>1.340133  </td><td>1.427632  </td><td> 0.1406041</td><td>2.186887  </td><td>0.645331  </td><td>0.2339479 </td><td>0.4643934 </td><td>0.4703115 </td><td>0.9732742 </td></tr>\n",
       "\t<tr><th scope=row>1.3</th><td>4         </td><td>1         </td><td>FileName  </td><td>       NA </td><td>       NA </td><td>       NA </td><td>NA        </td><td>NA        </td><td>NA        </td><td>0.1280749 </td><td>⋯         </td><td>1.372635  </td><td>1.340133  </td><td>1.427632  </td><td>-0.5580463</td><td>2.186887  </td><td>0.645331  </td><td>0.2339479 </td><td>0.4643934 </td><td>0.4703115 </td><td>1.1299431 </td></tr>\n",
       "\t<tr><th scope=row>1.4</th><td>5         </td><td>1         </td><td>FileName  </td><td>       NA </td><td>       NA </td><td>       NA </td><td>NA        </td><td>NA        </td><td>NA        </td><td>       NA </td><td>⋯         </td><td>1.372635  </td><td>1.340133  </td><td>1.427632  </td><td>-0.9296517</td><td>2.186887  </td><td>0.645331  </td><td>0.2339479 </td><td>0.4643934 </td><td>0.4703115 </td><td>1.1299431 </td></tr>\n",
       "\t<tr><th scope=row>1.5</th><td>6         </td><td>1         </td><td>FileName  </td><td>0.1812387 </td><td>0.1772048 </td><td>0.1895417 </td><td>NA        </td><td>NA        </td><td>NA        </td><td>0.1738021 </td><td>⋯         </td><td>1.372635  </td><td>1.340133  </td><td>1.427632  </td><td>-1.2761698</td><td>2.186887  </td><td>0.645331  </td><td>0.2339479 </td><td>0.4643934 </td><td>0.4703115 </td><td>0.9732742 </td></tr>\n",
       "</tbody>\n",
       "</table>\n"
      ],
      "text/latex": [
       "\\begin{tabular}{r|lllllllllllllllllllllllllllllllllllllll}\n",
       "  & SpotId & FociType & File & Sp1MeanDist & Sp1MinDist & Sp1MaxDist & Sp2MeanDist & Sp2MinDist & Sp2MaxDist & Sp3MeanDist & ⋯ & Nucleus & Nucleolus & MeanCC & ClosestCC & VolumeCC & IntensityCh0CC & IntensityCh1CC & IntensityCh2CC & IntensityCh3CC & SegmentChannel\\\\\n",
       "\\hline\n",
       "\t1 & 1          & 1          & FileName   & 0.1799320  & 0.1772048  & 0.1799320  & NA         & NA         & NA         & 0.1343186  & ⋯          & 1.372635   & 1.340133   & 1.427632   &  0.3367606 & 2.186887   & 0.645331   & 0.2339479  & 0.4643934  & 0.4703115  & 1.1299431 \\\\\n",
       "\t1.1 & 2          & 1          & FileName   & 0.1799320  & 0.1772048  & 0.1799320  & NA         & NA         & NA         &        NA  & ⋯          & 1.372635   & 1.340133   & 1.427632   &  0.2801932 & 2.186887   & 0.645331   & 0.2339479  & 0.4643934  & 0.4703115  & 0.9732742 \\\\\n",
       "\t1.2 & 3          & 1          & FileName   &        NA  &        NA  &        NA  & NA         & NA         & NA         & 0.1810282  & ⋯          & 1.372635   & 1.340133   & 1.427632   &  0.1406041 & 2.186887   & 0.645331   & 0.2339479  & 0.4643934  & 0.4703115  & 0.9732742 \\\\\n",
       "\t1.3 & 4          & 1          & FileName   &        NA  &        NA  &        NA  & NA         & NA         & NA         & 0.1280749  & ⋯          & 1.372635   & 1.340133   & 1.427632   & -0.5580463 & 2.186887   & 0.645331   & 0.2339479  & 0.4643934  & 0.4703115  & 1.1299431 \\\\\n",
       "\t1.4 & 5          & 1          & FileName   &        NA  &        NA  &        NA  & NA         & NA         & NA         &        NA  & ⋯          & 1.372635   & 1.340133   & 1.427632   & -0.9296517 & 2.186887   & 0.645331   & 0.2339479  & 0.4643934  & 0.4703115  & 1.1299431 \\\\\n",
       "\t1.5 & 6          & 1          & FileName   & 0.1812387  & 0.1772048  & 0.1895417  & NA         & NA         & NA         & 0.1738021  & ⋯          & 1.372635   & 1.340133   & 1.427632   & -1.2761698 & 2.186887   & 0.645331   & 0.2339479  & 0.4643934  & 0.4703115  & 0.9732742 \\\\\n",
       "\\end{tabular}\n"
      ],
      "text/markdown": [
       "\n",
       "| <!--/--> | SpotId | FociType | File | Sp1MeanDist | Sp1MinDist | Sp1MaxDist | Sp2MeanDist | Sp2MinDist | Sp2MaxDist | Sp3MeanDist | ⋯ | Nucleus | Nucleolus | MeanCC | ClosestCC | VolumeCC | IntensityCh0CC | IntensityCh1CC | IntensityCh2CC | IntensityCh3CC | SegmentChannel | \n",
       "|---|---|---|---|---|---|\n",
       "| 1 | 1          | 1          | FileName   | 0.1799320  | 0.1772048  | 0.1799320  | NA         | NA         | NA         | 0.1343186  | ⋯          | 1.372635   | 1.340133   | 1.427632   |  0.3367606 | 2.186887   | 0.645331   | 0.2339479  | 0.4643934  | 0.4703115  | 1.1299431  | \n",
       "| 1.1 | 2          | 1          | FileName   | 0.1799320  | 0.1772048  | 0.1799320  | NA         | NA         | NA         |        NA  | ⋯          | 1.372635   | 1.340133   | 1.427632   |  0.2801932 | 2.186887   | 0.645331   | 0.2339479  | 0.4643934  | 0.4703115  | 0.9732742  | \n",
       "| 1.2 | 3          | 1          | FileName   |        NA  |        NA  |        NA  | NA         | NA         | NA         | 0.1810282  | ⋯          | 1.372635   | 1.340133   | 1.427632   |  0.1406041 | 2.186887   | 0.645331   | 0.2339479  | 0.4643934  | 0.4703115  | 0.9732742  | \n",
       "| 1.3 | 4          | 1          | FileName   |        NA  |        NA  |        NA  | NA         | NA         | NA         | 0.1280749  | ⋯          | 1.372635   | 1.340133   | 1.427632   | -0.5580463 | 2.186887   | 0.645331   | 0.2339479  | 0.4643934  | 0.4703115  | 1.1299431  | \n",
       "| 1.4 | 5          | 1          | FileName   |        NA  |        NA  |        NA  | NA         | NA         | NA         |        NA  | ⋯          | 1.372635   | 1.340133   | 1.427632   | -0.9296517 | 2.186887   | 0.645331   | 0.2339479  | 0.4643934  | 0.4703115  | 1.1299431  | \n",
       "| 1.5 | 6          | 1          | FileName   | 0.1812387  | 0.1772048  | 0.1895417  | NA         | NA         | NA         | 0.1738021  | ⋯          | 1.372635   | 1.340133   | 1.427632   | -1.2761698 | 2.186887   | 0.645331   | 0.2339479  | 0.4643934  | 0.4703115  | 0.9732742  | \n",
       "\n",
       "\n"
      ],
      "text/plain": [
       "    SpotId FociType File     Sp1MeanDist Sp1MinDist Sp1MaxDist Sp2MeanDist\n",
       "1   1      1        FileName 0.1799320   0.1772048  0.1799320  NA         \n",
       "1.1 2      1        FileName 0.1799320   0.1772048  0.1799320  NA         \n",
       "1.2 3      1        FileName        NA          NA         NA  NA         \n",
       "1.3 4      1        FileName        NA          NA         NA  NA         \n",
       "1.4 5      1        FileName        NA          NA         NA  NA         \n",
       "1.5 6      1        FileName 0.1812387   0.1772048  0.1895417  NA         \n",
       "    Sp2MinDist Sp2MaxDist Sp3MeanDist ⋯ Nucleus  Nucleolus MeanCC   ClosestCC \n",
       "1   NA         NA         0.1343186   ⋯ 1.372635 1.340133  1.427632  0.3367606\n",
       "1.1 NA         NA                NA   ⋯ 1.372635 1.340133  1.427632  0.2801932\n",
       "1.2 NA         NA         0.1810282   ⋯ 1.372635 1.340133  1.427632  0.1406041\n",
       "1.3 NA         NA         0.1280749   ⋯ 1.372635 1.340133  1.427632 -0.5580463\n",
       "1.4 NA         NA                NA   ⋯ 1.372635 1.340133  1.427632 -0.9296517\n",
       "1.5 NA         NA         0.1738021   ⋯ 1.372635 1.340133  1.427632 -1.2761698\n",
       "    VolumeCC IntensityCh0CC IntensityCh1CC IntensityCh2CC IntensityCh3CC\n",
       "1   2.186887 0.645331       0.2339479      0.4643934      0.4703115     \n",
       "1.1 2.186887 0.645331       0.2339479      0.4643934      0.4703115     \n",
       "1.2 2.186887 0.645331       0.2339479      0.4643934      0.4703115     \n",
       "1.3 2.186887 0.645331       0.2339479      0.4643934      0.4703115     \n",
       "1.4 2.186887 0.645331       0.2339479      0.4643934      0.4703115     \n",
       "1.5 2.186887 0.645331       0.2339479      0.4643934      0.4703115     \n",
       "    SegmentChannel\n",
       "1   1.1299431     \n",
       "1.1 0.9732742     \n",
       "1.2 0.9732742     \n",
       "1.3 1.1299431     \n",
       "1.4 1.1299431     \n",
       "1.5 0.9732742     "
      ]
     },
     "metadata": {},
     "output_type": "display_data"
    }
   ],
   "source": [
    "print(dim(res))\n",
    "print(names(res))\n",
    "head(res)"
   ]
  },
  {
   "cell_type": "markdown",
   "metadata": {},
   "source": [
    "(... dealing with missing data... this will be done later for the whole data frame in python)"
   ]
  },
  {
   "cell_type": "code",
   "execution_count": 32,
   "metadata": {},
   "outputs": [
    {
     "data": {
      "text/html": [
       "<table>\n",
       "<thead><tr><th></th><th scope=col>SpotId</th><th scope=col>FociType</th><th scope=col>File</th><th scope=col>Sp1MeanDist</th><th scope=col>Sp1MinDist</th><th scope=col>Sp1MaxDist</th><th scope=col>Sp2MeanDist</th><th scope=col>Sp2MinDist</th><th scope=col>Sp2MaxDist</th><th scope=col>Sp3MeanDist</th><th scope=col>⋯</th><th scope=col>Nucleus</th><th scope=col>Nucleolus</th><th scope=col>MeanCC</th><th scope=col>ClosestCC</th><th scope=col>VolumeCC</th><th scope=col>IntensityCh0CC</th><th scope=col>IntensityCh1CC</th><th scope=col>IntensityCh2CC</th><th scope=col>IntensityCh3CC</th><th scope=col>SegmentChannel</th></tr></thead>\n",
       "<tbody>\n",
       "\t<tr><th scope=row>1</th><td>1         </td><td>1         </td><td>FileName  </td><td> 0.1799320</td><td> 0.1772048</td><td> 0.1799320</td><td>10        </td><td>10        </td><td>10        </td><td> 0.1343186</td><td>⋯         </td><td>1.372635  </td><td>1.340133  </td><td>1.427632  </td><td> 0.3367606</td><td>2.186887  </td><td>0.645331  </td><td>0.2339479 </td><td>0.4643934 </td><td>0.4703115 </td><td>1.1299431 </td></tr>\n",
       "\t<tr><th scope=row>1.1</th><td>2         </td><td>1         </td><td>FileName  </td><td> 0.1799320</td><td> 0.1772048</td><td> 0.1799320</td><td>10        </td><td>10        </td><td>10        </td><td>10.0000000</td><td>⋯         </td><td>1.372635  </td><td>1.340133  </td><td>1.427632  </td><td> 0.2801932</td><td>2.186887  </td><td>0.645331  </td><td>0.2339479 </td><td>0.4643934 </td><td>0.4703115 </td><td>0.9732742 </td></tr>\n",
       "\t<tr><th scope=row>1.2</th><td>3         </td><td>1         </td><td>FileName  </td><td>10.0000000</td><td>10.0000000</td><td>10.0000000</td><td>10        </td><td>10        </td><td>10        </td><td> 0.1810282</td><td>⋯         </td><td>1.372635  </td><td>1.340133  </td><td>1.427632  </td><td> 0.1406041</td><td>2.186887  </td><td>0.645331  </td><td>0.2339479 </td><td>0.4643934 </td><td>0.4703115 </td><td>0.9732742 </td></tr>\n",
       "\t<tr><th scope=row>1.3</th><td>4         </td><td>1         </td><td>FileName  </td><td>10.0000000</td><td>10.0000000</td><td>10.0000000</td><td>10        </td><td>10        </td><td>10        </td><td> 0.1280749</td><td>⋯         </td><td>1.372635  </td><td>1.340133  </td><td>1.427632  </td><td>-0.5580463</td><td>2.186887  </td><td>0.645331  </td><td>0.2339479 </td><td>0.4643934 </td><td>0.4703115 </td><td>1.1299431 </td></tr>\n",
       "\t<tr><th scope=row>1.4</th><td>5         </td><td>1         </td><td>FileName  </td><td>10.0000000</td><td>10.0000000</td><td>10.0000000</td><td>10        </td><td>10        </td><td>10        </td><td>10.0000000</td><td>⋯         </td><td>1.372635  </td><td>1.340133  </td><td>1.427632  </td><td>-0.9296517</td><td>2.186887  </td><td>0.645331  </td><td>0.2339479 </td><td>0.4643934 </td><td>0.4703115 </td><td>1.1299431 </td></tr>\n",
       "\t<tr><th scope=row>1.5</th><td>6         </td><td>1         </td><td>FileName  </td><td> 0.1812387</td><td> 0.1772048</td><td> 0.1895417</td><td>10        </td><td>10        </td><td>10        </td><td> 0.1738021</td><td>⋯         </td><td>1.372635  </td><td>1.340133  </td><td>1.427632  </td><td>-1.2761698</td><td>2.186887  </td><td>0.645331  </td><td>0.2339479 </td><td>0.4643934 </td><td>0.4703115 </td><td>0.9732742 </td></tr>\n",
       "</tbody>\n",
       "</table>\n"
      ],
      "text/latex": [
       "\\begin{tabular}{r|lllllllllllllllllllllllllllllllllllllll}\n",
       "  & SpotId & FociType & File & Sp1MeanDist & Sp1MinDist & Sp1MaxDist & Sp2MeanDist & Sp2MinDist & Sp2MaxDist & Sp3MeanDist & ⋯ & Nucleus & Nucleolus & MeanCC & ClosestCC & VolumeCC & IntensityCh0CC & IntensityCh1CC & IntensityCh2CC & IntensityCh3CC & SegmentChannel\\\\\n",
       "\\hline\n",
       "\t1 & 1          & 1          & FileName   &  0.1799320 &  0.1772048 &  0.1799320 & 10         & 10         & 10         &  0.1343186 & ⋯          & 1.372635   & 1.340133   & 1.427632   &  0.3367606 & 2.186887   & 0.645331   & 0.2339479  & 0.4643934  & 0.4703115  & 1.1299431 \\\\\n",
       "\t1.1 & 2          & 1          & FileName   &  0.1799320 &  0.1772048 &  0.1799320 & 10         & 10         & 10         & 10.0000000 & ⋯          & 1.372635   & 1.340133   & 1.427632   &  0.2801932 & 2.186887   & 0.645331   & 0.2339479  & 0.4643934  & 0.4703115  & 0.9732742 \\\\\n",
       "\t1.2 & 3          & 1          & FileName   & 10.0000000 & 10.0000000 & 10.0000000 & 10         & 10         & 10         &  0.1810282 & ⋯          & 1.372635   & 1.340133   & 1.427632   &  0.1406041 & 2.186887   & 0.645331   & 0.2339479  & 0.4643934  & 0.4703115  & 0.9732742 \\\\\n",
       "\t1.3 & 4          & 1          & FileName   & 10.0000000 & 10.0000000 & 10.0000000 & 10         & 10         & 10         &  0.1280749 & ⋯          & 1.372635   & 1.340133   & 1.427632   & -0.5580463 & 2.186887   & 0.645331   & 0.2339479  & 0.4643934  & 0.4703115  & 1.1299431 \\\\\n",
       "\t1.4 & 5          & 1          & FileName   & 10.0000000 & 10.0000000 & 10.0000000 & 10         & 10         & 10         & 10.0000000 & ⋯          & 1.372635   & 1.340133   & 1.427632   & -0.9296517 & 2.186887   & 0.645331   & 0.2339479  & 0.4643934  & 0.4703115  & 1.1299431 \\\\\n",
       "\t1.5 & 6          & 1          & FileName   &  0.1812387 &  0.1772048 &  0.1895417 & 10         & 10         & 10         &  0.1738021 & ⋯          & 1.372635   & 1.340133   & 1.427632   & -1.2761698 & 2.186887   & 0.645331   & 0.2339479  & 0.4643934  & 0.4703115  & 0.9732742 \\\\\n",
       "\\end{tabular}\n"
      ],
      "text/markdown": [
       "\n",
       "| <!--/--> | SpotId | FociType | File | Sp1MeanDist | Sp1MinDist | Sp1MaxDist | Sp2MeanDist | Sp2MinDist | Sp2MaxDist | Sp3MeanDist | ⋯ | Nucleus | Nucleolus | MeanCC | ClosestCC | VolumeCC | IntensityCh0CC | IntensityCh1CC | IntensityCh2CC | IntensityCh3CC | SegmentChannel | \n",
       "|---|---|---|---|---|---|\n",
       "| 1 | 1          | 1          | FileName   |  0.1799320 |  0.1772048 |  0.1799320 | 10         | 10         | 10         |  0.1343186 | ⋯          | 1.372635   | 1.340133   | 1.427632   |  0.3367606 | 2.186887   | 0.645331   | 0.2339479  | 0.4643934  | 0.4703115  | 1.1299431  | \n",
       "| 1.1 | 2          | 1          | FileName   |  0.1799320 |  0.1772048 |  0.1799320 | 10         | 10         | 10         | 10.0000000 | ⋯          | 1.372635   | 1.340133   | 1.427632   |  0.2801932 | 2.186887   | 0.645331   | 0.2339479  | 0.4643934  | 0.4703115  | 0.9732742  | \n",
       "| 1.2 | 3          | 1          | FileName   | 10.0000000 | 10.0000000 | 10.0000000 | 10         | 10         | 10         |  0.1810282 | ⋯          | 1.372635   | 1.340133   | 1.427632   |  0.1406041 | 2.186887   | 0.645331   | 0.2339479  | 0.4643934  | 0.4703115  | 0.9732742  | \n",
       "| 1.3 | 4          | 1          | FileName   | 10.0000000 | 10.0000000 | 10.0000000 | 10         | 10         | 10         |  0.1280749 | ⋯          | 1.372635   | 1.340133   | 1.427632   | -0.5580463 | 2.186887   | 0.645331   | 0.2339479  | 0.4643934  | 0.4703115  | 1.1299431  | \n",
       "| 1.4 | 5          | 1          | FileName   | 10.0000000 | 10.0000000 | 10.0000000 | 10         | 10         | 10         | 10.0000000 | ⋯          | 1.372635   | 1.340133   | 1.427632   | -0.9296517 | 2.186887   | 0.645331   | 0.2339479  | 0.4643934  | 0.4703115  | 1.1299431  | \n",
       "| 1.5 | 6          | 1          | FileName   |  0.1812387 |  0.1772048 |  0.1895417 | 10         | 10         | 10         |  0.1738021 | ⋯          | 1.372635   | 1.340133   | 1.427632   | -1.2761698 | 2.186887   | 0.645331   | 0.2339479  | 0.4643934  | 0.4703115  | 0.9732742  | \n",
       "\n",
       "\n"
      ],
      "text/plain": [
       "    SpotId FociType File     Sp1MeanDist Sp1MinDist Sp1MaxDist Sp2MeanDist\n",
       "1   1      1        FileName  0.1799320   0.1772048  0.1799320 10         \n",
       "1.1 2      1        FileName  0.1799320   0.1772048  0.1799320 10         \n",
       "1.2 3      1        FileName 10.0000000  10.0000000 10.0000000 10         \n",
       "1.3 4      1        FileName 10.0000000  10.0000000 10.0000000 10         \n",
       "1.4 5      1        FileName 10.0000000  10.0000000 10.0000000 10         \n",
       "1.5 6      1        FileName  0.1812387   0.1772048  0.1895417 10         \n",
       "    Sp2MinDist Sp2MaxDist Sp3MeanDist ⋯ Nucleus  Nucleolus MeanCC   ClosestCC \n",
       "1   10         10          0.1343186  ⋯ 1.372635 1.340133  1.427632  0.3367606\n",
       "1.1 10         10         10.0000000  ⋯ 1.372635 1.340133  1.427632  0.2801932\n",
       "1.2 10         10          0.1810282  ⋯ 1.372635 1.340133  1.427632  0.1406041\n",
       "1.3 10         10          0.1280749  ⋯ 1.372635 1.340133  1.427632 -0.5580463\n",
       "1.4 10         10         10.0000000  ⋯ 1.372635 1.340133  1.427632 -0.9296517\n",
       "1.5 10         10          0.1738021  ⋯ 1.372635 1.340133  1.427632 -1.2761698\n",
       "    VolumeCC IntensityCh0CC IntensityCh1CC IntensityCh2CC IntensityCh3CC\n",
       "1   2.186887 0.645331       0.2339479      0.4643934      0.4703115     \n",
       "1.1 2.186887 0.645331       0.2339479      0.4643934      0.4703115     \n",
       "1.2 2.186887 0.645331       0.2339479      0.4643934      0.4703115     \n",
       "1.3 2.186887 0.645331       0.2339479      0.4643934      0.4703115     \n",
       "1.4 2.186887 0.645331       0.2339479      0.4643934      0.4703115     \n",
       "1.5 2.186887 0.645331       0.2339479      0.4643934      0.4703115     \n",
       "    SegmentChannel\n",
       "1   1.1299431     \n",
       "1.1 0.9732742     \n",
       "1.2 0.9732742     \n",
       "1.3 1.1299431     \n",
       "1.4 1.1299431     \n",
       "1.5 0.9732742     "
      ]
     },
     "metadata": {},
     "output_type": "display_data"
    }
   ],
   "source": [
    "drops <- c(\"Sp1MeanDist\", \"Sp1MinDist\", \"Sp1MaxDist\", \"Sp2MeanDist\", \"Sp2MinDist\", \"Sp2MaxDist\", \"Sp3MeanDist\", \"Sp3MinDist\", \"Sp3MaxDist\") # these features are not to be scaled per image\n",
    "CleanDf<-res\n",
    "#missing values as number of spots within radius is set to 0\n",
    "CleanDf$Sp1NumbSpot[is.na(CleanDf$Sp1NumbSpot)]<-0\n",
    "CleanDf$Sp2NumbSpot[is.na(CleanDf$Sp2NumbSpot)]<-0\n",
    "CleanDf$Sp3NumbSpot[is.na(CleanDf$Sp3NumbSpot)]<-0\n",
    "#missing values as distance from spots within radius is set to 10\n",
    "CleanDf[is.na(CleanDf)] <- 10\n",
    "head(CleanDf)"
   ]
  },
  {
   "cell_type": "markdown",
   "metadata": {},
   "source": [
    "(...check that selected features are scaled)"
   ]
  },
  {
   "cell_type": "code",
   "execution_count": 33,
   "metadata": {
    "collapsed": true
   },
   "outputs": [],
   "source": [
    "drops <- c('N1Volume','N1IntensityCh0','N1IntensityCh1', 'N1IntensityCh2', 'N1IntensityCh3', 'N2Volume','N2IntensityCh0','N2IntensityCh1', 'N2IntensityCh2','N2IntensityCh3',\"Sp1MeanDist\", \"Sp1MinDist\", \"Sp1MaxDist\", \"Sp2MeanDist\", \"Sp2MinDist\", \"Sp2MaxDist\", \"Sp3MeanDist\", \"Sp3MinDist\", \"Sp3MaxDist\") # these features are not to be scaled per image\n",
    "res.long<-CleanDf[ , !(names(CleanDf) %in% drops)]\n",
    "res.long<-melt(res.long,id.vars=c(\"SpotId\",\"File\",\"FociType\"))\n",
    "#Next, as during importing data letter X is added to variable names starting with number, remove it with substring().\n",
    "#df.long$variable<-substring(df.long$variable,2)"
   ]
  },
  {
   "cell_type": "markdown",
   "metadata": {},
   "source": [
    "#### boxplot of all features before scaling####\n",
    "\n",
    "Commented out the lines refering to scaling in function: ProcessOneImage"
   ]
  },
  {
   "cell_type": "code",
   "execution_count": 26,
   "metadata": {},
   "outputs": [
    {
     "data": {},
     "metadata": {},
     "output_type": "display_data"
    },
    {
     "data": {
      "image/png": "[encoded data removed]",
      "text/plain": [
       "plot without title"
      ]
     },
     "metadata": {},
     "output_type": "display_data"
    }
   ],
   "source": [
    "ggplot(res.long,aes(variable,value,fill=as.factor(FociType)))+\n",
    "    theme(axis.text.x=element_text(color = \"black\", size=11, angle=30, vjust=.8, hjust=0.8)) +\n",
    "   # geom_boxplot(position=\"dodge\",stat=\"identity\")\n",
    "    geom_boxplot()"
   ]
  },
  {
   "cell_type": "markdown",
   "metadata": {},
   "source": [
    "We need to scale  for the following reasons:\n",
    "1. Normalise data in different images\n",
    "2. If we proceed with machine learning without scaling some features will have more weight than others, as we can see from the plot above\n",
    "\n",
    "#### After scaling####\n",
    "(... same plot after scaling:  removed the comments on the lines refering to scaling and rerun previous cells)"
   ]
  },
  {
   "cell_type": "code",
   "execution_count": 34,
   "metadata": {},
   "outputs": [
    {
     "data": {},
     "metadata": {},
     "output_type": "display_data"
    },
    {
     "data": {
      "image/png": "[encoded data removed]",
      "text/plain": [
       "plot without title"
      ]
     },
     "metadata": {},
     "output_type": "display_data"
    }
   ],
   "source": [
    "ggplot(res.long,aes(variable,value,fill=as.factor(FociType)))+\n",
    "    theme(axis.text.x=element_text(color = \"black\", size=11, angle=30, vjust=.8, hjust=0.8)) +\n",
    "   # geom_boxplot(position=\"dodge\",stat=\"identity\")\n",
    "    geom_boxplot()"
   ]
  },
  {
   "cell_type": "code",
   "execution_count": 55,
   "metadata": {},
   "outputs": [
    {
     "data": {
      "image/png": "[encoded data removed]",
      "text/plain": [
       "Plot with title “datz”"
      ]
     },
     "metadata": {},
     "output_type": "display_data"
    }
   ],
   "source": [
    "rownames(CleanDf)<-seq(1,nrow(CleanDf))\n",
    "datz <- CleanDf[, !names(CleanDf)%in%c(\"File\")]\n",
    "datz <- zoo(datz)\n",
    "## plot it\n",
    "names(datz)<- seq(1, ncol(datz))\n",
    "plot(datz)"
   ]
  },
  {
   "cell_type": "markdown",
   "metadata": {},
   "source": [
    "## Process several folders\n",
    "Data resulting from plugins ae stored in either \n",
    "- XTCountSpotPerShell_Result folder for segmented spots \n",
    "- XTSimulateRandomSpots_Result folder for simulated spots\n",
    "And to allow simultaneous parallel jobs in Imaris, 5 folders are created for each experiment type eg: s20\n",
    "Here I am going to work on s20, and I am going to open each file in each folders in XTCountSpotPerShell_Result"
   ]
  },
  {
   "cell_type": "markdown",
   "metadata": {},
   "source": [
    "#### Step1: XTCountSpotPerShell_Result####"
   ]
  },
  {
   "cell_type": "code",
   "execution_count": 64,
   "metadata": {
    "collapsed": true
   },
   "outputs": [],
   "source": [
    "ProcessOneFOlder<-function(FolderPath){\n",
    "  for (highFol in c(1,3,4,5))\n",
    "  #for (highFol in c(2)) #folder 2 is the heaviest folder. So I am running it seperately on another pc\n",
    "    {\n",
    "    #path in Linux **********\n",
    "    MotherFolder<- paste(FolderPath,highFol, \"XTCountSpotPerShell_Result\", sep=\"/\")\n",
    "    # MotherFolder<- paste(FolderPath,highFol, \"XTSimulateRandomSpots_Result\", sep=\"/\") #for sim data\n",
    "    FilePath <- paste(MotherFolder, \"FileName.csv\", sep=\"/\")\n",
    "    #path in Windows ********\n",
    "    # MotherFolder<- paste(FolderPath,highFol, \"XTCountSpotPerShell_Result\", sep=\"\\\\\")\n",
    "    # FilePath <- paste(MotherFolder, \"FileName.csv\", sep=\"\\\\\")\n",
    "    #************************\n",
    "    FileName <- read.csv(file=FilePath, header = TRUE, sep = \",\")\n",
    "    NumberImage <- length(FileName$X0)\n",
    "    Result <- data.frame(matrix(,nrow=0, ncol=40)) #will contain intensities of spots (n+DAPI)\n",
    "    for(FileId in seq(1, NumberImage)){\n",
    "      # for(MaskId in c(0,1)){ #for sim data\n",
    "      for(MaskId in c(-1)){ #for sim data\n",
    "        FileN <-FileName$X0[FileId]\n",
    "        # res<-ProcessOneSimImage( MotherFolder, FileId, FileN, MaskId) #sim\n",
    "        res<-ProcessOneImage( MotherFolder, FileId, FileN) #obs\n",
    "        res$Mask=MaskId #sim\n",
    "        Result<-rbind(Result, res)\n",
    "      }\n",
    "    }\n",
    "    rm(res)\n",
    "    FilePath=paste(MotherFolder, \"MLResult.csv\", sep=\"/\")\n",
    "    write.csv(Result, file = FilePath, quote=FALSE, row.names = FALSE) \n",
    "    rm(Result)\n",
    "  }\n",
    "}\n",
    "+"
   ]
  },
  {
   "cell_type": "code",
   "execution_count": 65,
   "metadata": {},
   "outputs": [
    {
     "name": "stdout",
     "output_type": "stream",
     "text": [
      "[1] \"Sp4730\" \"Sp3\"   \n",
      "[1] \"Sp4730\" \"Sp4\"   \n",
      "[1] 0\n",
      "[1] \"Sp34849\" \"Sp3\"    \n",
      "[1] \"Sp34849\" \"Sp4\"    \n",
      "[1] 1\n",
      "[1] \"Sp63092\" \"Sp3\"    \n",
      "[1] \"Sp63092\" \"Sp4\"    \n",
      "[1] 2\n",
      "[1] \"Sp3123\" \"Sp3\"   \n",
      "[1] \"Sp3123\" \"Sp4\"   \n",
      "[1] 0\n",
      "[1] \"Sp22166\" \"Sp3\"    \n",
      "[1] \"Sp22166\" \"Sp4\"    \n",
      "[1] 1\n",
      "[1] \"Sp39812\" \"Sp3\"    \n",
      "[1] \"Sp39812\" \"Sp4\"    \n",
      "[1] 2\n",
      "[1] \"Sp12941\" \"Sp3\"    \n",
      "[1] \"Sp12941\" \"Sp4\"    \n",
      "[1] 0\n",
      "[1] \"Sp76099\" \"Sp3\"    \n",
      "[1] \"Sp76099\" \"Sp4\"    \n",
      "[1] 1\n",
      "[1] \"Sp60197\" \"Sp3\"    \n",
      "[1] \"Sp60197\" \"Sp4\"    \n",
      "[1] 2\n"
     ]
    },
    {
     "ename": "ERROR",
     "evalue": "Error: cannot allocate vector of size 569.3 Mb\n",
     "output_type": "error",
     "traceback": [
      "Error: cannot allocate vector of size 569.3 Mb\nTraceback:\n",
      "1. ProcessOneFOlder(MotherFolder)",
      "2. ProcessOneImage(MotherFolder, FileId, FileN)   # at line 21 of file <text>",
      "3. CalculateSpotDistance(CollectSepSpots[[ch]], Data1, delta, FileName, \n .     paste(\"Channel\", ch, sep = \"\"))   # at line 37 of file <text>",
      "4. nearest.dist(x = PositionTableX, y = PositionTableY, method = \"euclidean\", \n .     delta = DistanceThreshold, upper = NULL)   # at line 5 of file <text>",
      "5. .C64(\"closestdist\", SIGNATURE = c(SS$signature, \"double\", SS$signature, \n .     \"double\", SS$signature, SS$signature, \"double\", SS$signature, \n .     \"double\", SS$signature, SS$signature, \"double\", SS$signature, \n .     SS$signature), nd, x, n1, y, n2, part, p[1], method, abs(delta[1]), \n .     colindices = vector(SS$type, nnz), rowpointers = vector(SS$type, \n .         n1 + 1), entries = vector(\"double\", nnz), nnz = nnz, \n .     iflag = 0, INTENT = c(\"r\", \"r\", \"r\", \"r\", \"r\", \"r\", \"rw\", \n .         \"r\", \"r\", \"w\", \"w\", \"w\", \"rw\", \"w\"), NAOK = getOption(\"spam.NAOK\"), \n .     PACKAGE = SS$package)"
     ]
    }
   ],
   "source": [
    "#MotherFolder= \"Z:\\\\Result0309\\\\s20_Wt\" #windows\n",
    "MotherFolder= \"/home/nani/smb4k/BOTSERV4.UZH.CH/gr_ug_ext/mashen2/Result0309/s20_Wt\" #linux\n",
    "ProcessOneFOlder(MotherFolder)"
   ]
  },
  {
   "cell_type": "markdown",
   "metadata": {},
   "source": [
    "Random spots were also simulated to compare with the foci distribution. So below we process the simulated data.\n",
    "### Notes: \n",
    "1. To bind Simulated df with the Obeserved one: add simN column to the observed df, just before binding. Add a value = -1"
   ]
  },
  {
   "cell_type": "markdown",
   "metadata": {},
   "source": [
    "# Simulated data\n",
    "## Process one image\n",
    "(... I am only taking into account simulations outside of nucleolus and CCs)"
   ]
  },
  {
   "cell_type": "markdown",
   "metadata": {},
   "source": [
    "Note Plugin:\n",
    "- In XTSimulateRandomSpots.py: transpose simulated spots coordinates before exporting df\n",
    "- In XTCountSpotPerShell.py: rename columns in intensity df by the channel name - just like in XTSimulateRandomSpots.py"
   ]
  },
  {
   "cell_type": "markdown",
   "metadata": {},
   "source": [
    "Notes:\n",
    "- Select images with the approved segmentation\n",
    "- Select images existing in both observed and segmented folder\n",
    "- Process image\n",
    "- Add in ploidy information in additional column"
   ]
  },
  {
   "cell_type": "markdown",
   "metadata": {},
   "source": [
    "SelectFiles () function will:\n",
    "- Reads the all the filenames in all folders \n",
    "- Select only filenames that has both simulated and observed data\n",
    "- Read ploidy data frame\n",
    "- Export df containing selecting filenames, and their ploidy index\n"
   ]
  },
  {
   "cell_type": "code",
   "execution_count": 19,
   "metadata": {
    "collapsed": true
   },
   "outputs": [],
   "source": [
    "SelectFiles <- function(FolderPath)\n",
    "    {\n",
    "      Data1 <- data.frame(matrix(,nrow=0, ncol=2)) #will contain positions of spots\n",
    "      for (SubFolder in c(1,2,3,4,5))\n",
    "        {\n",
    "        FilePath<- paste(MotherFolder,SubFolder,  \"XTCountSpotPerShell_Result\",\"FileName.csv\" , sep=\"/\") # for linux\n",
    "        # FilePath<- paste(MotherFolder,SubFolder, \"XTCountSpotPerShell_Result\",\"FileName.csv\", sep=\"\\\\\") # for windows\n",
    "        OBsdf <- read.csv(file=FilePath, header = TRUE, sep = \",\")\n",
    "        FilePath<- paste(MotherFolder,SubFolder,  \"XTSimulateRandomSpots_Result\",\"FileName.csv\" , sep=\"/\") #for linux\n",
    "        # FilePath<- paste(MotherFolder,SubFolder, \"XTSimulateRandomSpots_Result\",\"FileName.csv\", sep=\"\\\\\") # for windows\n",
    "        Simdf <- read.csv(file=FilePath, header = TRUE, sep = \",\")\n",
    "        df<-merge(OBsdf, Simdf, all = FALSE)\n",
    "        df$FolderID<-SubFolder\n",
    "        Data1<-rbind(Data1, df)\n",
    "      }\n",
    "    names(Data1)<-c(\"FileName\", \"FolderID\")\n",
    "    FilePath<- paste(MotherFolder,\"XTNucleiPloidy_Result\", \"XTNucleiPloidy_Result.csv\" , sep=\"/\")\n",
    "    PLoidyDf <- read.csv(file=FilePath, header = TRUE, sep = \",\")\n",
    "    Data1<-merge(Data1, PLoidyDf, all = FALSE)\n",
    "    Data1<-Data1[, names(Data1)%in%c(\"FileName\",\"FolderID\", \"ClusterId\")]\n",
    "    Data1\n",
    "}"
   ]
  },
  {
   "cell_type": "code",
   "execution_count": 20,
   "metadata": {
    "collapsed": true
   },
   "outputs": [],
   "source": [
    "MotherFolder= \"/home/nani/smb4k/BOTSERV4.UZH.CH/gr_ug_ext/mashen2/Result0309/s20_Wt\"\n",
    "FileName<-SelectFiles(FolderPath)"
   ]
  },
  {
   "cell_type": "code",
   "execution_count": 21,
   "metadata": {},
   "outputs": [
    {
     "name": "stdout",
     "output_type": "stream",
     "text": [
      "[1] 48  3\n"
     ]
    },
    {
     "data": {
      "text/html": [
       "<table>\n",
       "<thead><tr><th scope=col>FileName</th><th scope=col>FolderID</th><th scope=col>ClusterId</th></tr></thead>\n",
       "<tbody>\n",
       "\t<tr><td>s20_wt_aa_series005.ims</td><td>1                      </td><td>P0                     </td></tr>\n",
       "\t<tr><td>s20_wt_ab_series006.ims</td><td>1                      </td><td>P0                     </td></tr>\n",
       "\t<tr><td>s20_wt_ac_series007.ims</td><td>1                      </td><td>P0                     </td></tr>\n",
       "\t<tr><td>s20_wt_ad_series008.ims</td><td>1                      </td><td>P0                     </td></tr>\n",
       "\t<tr><td>s20_wt_ae_series009.ims</td><td>1                      </td><td>P0                     </td></tr>\n",
       "\t<tr><td>s20_wt_am_series017.ims</td><td>2                      </td><td>P0                     </td></tr>\n",
       "</tbody>\n",
       "</table>\n"
      ],
      "text/latex": [
       "\\begin{tabular}{r|lll}\n",
       " FileName & FolderID & ClusterId\\\\\n",
       "\\hline\n",
       "\t s20\\_wt\\_aa\\_series005.ims & 1                             & P0                           \\\\\n",
       "\t s20\\_wt\\_ab\\_series006.ims & 1                             & P0                           \\\\\n",
       "\t s20\\_wt\\_ac\\_series007.ims & 1                             & P0                           \\\\\n",
       "\t s20\\_wt\\_ad\\_series008.ims & 1                             & P0                           \\\\\n",
       "\t s20\\_wt\\_ae\\_series009.ims & 1                             & P0                           \\\\\n",
       "\t s20\\_wt\\_am\\_series017.ims & 2                             & P0                           \\\\\n",
       "\\end{tabular}\n"
      ],
      "text/markdown": [
       "\n",
       "FileName | FolderID | ClusterId | \n",
       "|---|---|---|---|---|---|\n",
       "| s20_wt_aa_series005.ims | 1                       | P0                      | \n",
       "| s20_wt_ab_series006.ims | 1                       | P0                      | \n",
       "| s20_wt_ac_series007.ims | 1                       | P0                      | \n",
       "| s20_wt_ad_series008.ims | 1                       | P0                      | \n",
       "| s20_wt_ae_series009.ims | 1                       | P0                      | \n",
       "| s20_wt_am_series017.ims | 2                       | P0                      | \n",
       "\n",
       "\n"
      ],
      "text/plain": [
       "  FileName                FolderID ClusterId\n",
       "1 s20_wt_aa_series005.ims 1        P0       \n",
       "2 s20_wt_ab_series006.ims 1        P0       \n",
       "3 s20_wt_ac_series007.ims 1        P0       \n",
       "4 s20_wt_ad_series008.ims 1        P0       \n",
       "5 s20_wt_ae_series009.ims 1        P0       \n",
       "6 s20_wt_am_series017.ims 2        P0       "
      ]
     },
     "metadata": {},
     "output_type": "display_data"
    }
   ],
   "source": [
    "print(dim(FileName))\n",
    "head(FileName)"
   ]
  },
  {
   "cell_type": "code",
   "execution_count": 22,
   "metadata": {
    "collapsed": true
   },
   "outputs": [],
   "source": [
    "#FilePath=paste(MotherFolder, \"FileNames.csv\", sep=\"/\")\n",
    "#write.csv(FileName, file = FilePath, quote=FALSE, row.names = FALSE)"
   ]
  },
  {
   "cell_type": "code",
   "execution_count": 8,
   "metadata": {},
   "outputs": [
    {
     "data": {
      "text/plain": [
       "\n",
       "P0 P1 \n",
       "34 14 "
      ]
     },
     "metadata": {},
     "output_type": "display_data"
    }
   ],
   "source": [
    "table(FileName$ClusterId)"
   ]
  },
  {
   "cell_type": "markdown",
   "metadata": {},
   "source": [
    "Here, I manually indexed the segmentation station (TRUE/FALSE) based on the snapshots, and saved by each plugin"
   ]
  },
  {
   "cell_type": "code",
   "execution_count": 9,
   "metadata": {
    "scrolled": true
   },
   "outputs": [
    {
     "data": {
      "text/html": [
       "<table>\n",
       "<thead><tr><th scope=col>FileName</th><th scope=col>FolderID</th><th scope=col>ClusterId</th><th scope=col>Nucleolusok</th></tr></thead>\n",
       "<tbody>\n",
       "\t<tr><td>s20_wt_aa_series005.ims</td><td>1                      </td><td>P0                     </td><td>1                      </td></tr>\n",
       "\t<tr><td>s20_wt_ab_series006.ims</td><td>1                      </td><td>P0                     </td><td>0                      </td></tr>\n",
       "\t<tr><td>s20_wt_ac_series007.ims</td><td>1                      </td><td>P0                     </td><td>0                      </td></tr>\n",
       "\t<tr><td>s20_wt_ad_series008.ims</td><td>1                      </td><td>P0                     </td><td>1                      </td></tr>\n",
       "\t<tr><td>s20_wt_ae_series009.ims</td><td>1                      </td><td>P0                     </td><td>1                      </td></tr>\n",
       "\t<tr><td>s20_wt_ag_series011.ims</td><td>1                      </td><td>P0                     </td><td>1                      </td></tr>\n",
       "</tbody>\n",
       "</table>\n"
      ],
      "text/latex": [
       "\\begin{tabular}{r|llll}\n",
       " FileName & FolderID & ClusterId & Nucleolusok\\\\\n",
       "\\hline\n",
       "\t s20\\_wt\\_aa\\_series005.ims & 1                             & P0                            & 1                            \\\\\n",
       "\t s20\\_wt\\_ab\\_series006.ims & 1                             & P0                            & 0                            \\\\\n",
       "\t s20\\_wt\\_ac\\_series007.ims & 1                             & P0                            & 0                            \\\\\n",
       "\t s20\\_wt\\_ad\\_series008.ims & 1                             & P0                            & 1                            \\\\\n",
       "\t s20\\_wt\\_ae\\_series009.ims & 1                             & P0                            & 1                            \\\\\n",
       "\t s20\\_wt\\_ag\\_series011.ims & 1                             & P0                            & 1                            \\\\\n",
       "\\end{tabular}\n"
      ],
      "text/markdown": [
       "\n",
       "FileName | FolderID | ClusterId | Nucleolusok | \n",
       "|---|---|---|---|---|---|\n",
       "| s20_wt_aa_series005.ims | 1                       | P0                      | 1                       | \n",
       "| s20_wt_ab_series006.ims | 1                       | P0                      | 0                       | \n",
       "| s20_wt_ac_series007.ims | 1                       | P0                      | 0                       | \n",
       "| s20_wt_ad_series008.ims | 1                       | P0                      | 1                       | \n",
       "| s20_wt_ae_series009.ims | 1                       | P0                      | 1                       | \n",
       "| s20_wt_ag_series011.ims | 1                       | P0                      | 1                       | \n",
       "\n",
       "\n"
      ],
      "text/plain": [
       "  FileName                FolderID ClusterId Nucleolusok\n",
       "1 s20_wt_aa_series005.ims 1        P0        1          \n",
       "2 s20_wt_ab_series006.ims 1        P0        0          \n",
       "3 s20_wt_ac_series007.ims 1        P0        0          \n",
       "4 s20_wt_ad_series008.ims 1        P0        1          \n",
       "5 s20_wt_ae_series009.ims 1        P0        1          \n",
       "6 s20_wt_ag_series011.ims 1        P0        1          "
      ]
     },
     "metadata": {},
     "output_type": "display_data"
    }
   ],
   "source": [
    "#MotherFolder<- \"/home/nani/smb4k/BOTSERV4.UZH.CH/gr_ug_ext/mashen2/Result0309/s20_Wt\" #for linux\n",
    "MotherFolder<- \"Z:\\\\Result0309\\\\s20_Wt\" #for windows\n",
    "FilePath=paste(MotherFolder, \"FileNames.csv\", sep=\"/\") #on linux\n",
    "#FilePath=paste(MotherFolder, \"FileNames.csv\", sep=\"\\\\\") #on windows\n",
    "SelectedIMages <- read.csv(file=FilePath, header = TRUE, sep = \",\")\n",
    "head(SelectedIMages)"
   ]
  },
  {
   "cell_type": "code",
   "execution_count": 10,
   "metadata": {
    "collapsed": true
   },
   "outputs": [],
   "source": [
    "SelectedIMages<-SelectedIMages[SelectedIMages$Nucleolusok==1, names(SelectedIMages)%in%c(\"FileName\", \"ClusterId\", \"FolderID\")]"
   ]
  },
  {
   "cell_type": "code",
   "execution_count": 11,
   "metadata": {
    "scrolled": true
   },
   "outputs": [
    {
     "data": {
      "text/html": [
       "<table>\n",
       "<thead><tr><th></th><th scope=col>FileName</th><th scope=col>FolderID</th><th scope=col>ClusterId</th></tr></thead>\n",
       "<tbody>\n",
       "\t<tr><th scope=row>1</th><td>s20_wt_aa_series005.ims</td><td>1                      </td><td>P0                     </td></tr>\n",
       "\t<tr><th scope=row>4</th><td>s20_wt_ad_series008.ims</td><td>1                      </td><td>P0                     </td></tr>\n",
       "\t<tr><th scope=row>5</th><td>s20_wt_ae_series009.ims</td><td>1                      </td><td>P0                     </td></tr>\n",
       "\t<tr><th scope=row>6</th><td>s20_wt_ag_series011.ims</td><td>1                      </td><td>P0                     </td></tr>\n",
       "\t<tr><th scope=row>8</th><td>s20_wt_ai_series013.ims</td><td>1                      </td><td>P1                     </td></tr>\n",
       "\t<tr><th scope=row>9</th><td>s20_wt_aj_series014.ims</td><td>1                      </td><td>P1                     </td></tr>\n",
       "</tbody>\n",
       "</table>\n"
      ],
      "text/latex": [
       "\\begin{tabular}{r|lll}\n",
       "  & FileName & FolderID & ClusterId\\\\\n",
       "\\hline\n",
       "\t1 & s20\\_wt\\_aa\\_series005.ims & 1                             & P0                           \\\\\n",
       "\t4 & s20\\_wt\\_ad\\_series008.ims & 1                             & P0                           \\\\\n",
       "\t5 & s20\\_wt\\_ae\\_series009.ims & 1                             & P0                           \\\\\n",
       "\t6 & s20\\_wt\\_ag\\_series011.ims & 1                             & P0                           \\\\\n",
       "\t8 & s20\\_wt\\_ai\\_series013.ims & 1                             & P1                           \\\\\n",
       "\t9 & s20\\_wt\\_aj\\_series014.ims & 1                             & P1                           \\\\\n",
       "\\end{tabular}\n"
      ],
      "text/markdown": [
       "\n",
       "| <!--/--> | FileName | FolderID | ClusterId | \n",
       "|---|---|---|---|---|---|\n",
       "| 1 | s20_wt_aa_series005.ims | 1                       | P0                      | \n",
       "| 4 | s20_wt_ad_series008.ims | 1                       | P0                      | \n",
       "| 5 | s20_wt_ae_series009.ims | 1                       | P0                      | \n",
       "| 6 | s20_wt_ag_series011.ims | 1                       | P0                      | \n",
       "| 8 | s20_wt_ai_series013.ims | 1                       | P1                      | \n",
       "| 9 | s20_wt_aj_series014.ims | 1                       | P1                      | \n",
       "\n",
       "\n"
      ],
      "text/plain": [
       "  FileName                FolderID ClusterId\n",
       "1 s20_wt_aa_series005.ims 1        P0       \n",
       "4 s20_wt_ad_series008.ims 1        P0       \n",
       "5 s20_wt_ae_series009.ims 1        P0       \n",
       "6 s20_wt_ag_series011.ims 1        P0       \n",
       "8 s20_wt_ai_series013.ims 1        P1       \n",
       "9 s20_wt_aj_series014.ims 1        P1       "
      ]
     },
     "metadata": {},
     "output_type": "display_data"
    }
   ],
   "source": [
    "head(SelectedIMages)"
   ]
  },
  {
   "cell_type": "code",
   "execution_count": 12,
   "metadata": {},
   "outputs": [
    {
     "data": {
      "text/plain": [
       "\n",
       "P0 P1 \n",
       "26 14 "
      ]
     },
     "metadata": {},
     "output_type": "display_data"
    }
   ],
   "source": [
    "table(SelectedIMages$ClusterId)"
   ]
  },
  {
   "cell_type": "code",
   "execution_count": 24,
   "metadata": {},
   "outputs": [],
   "source": [
    "ProcessOneSimImage<-function(MotherFolder, ImageId,ImageIdVert, FileName, MaskId){\n",
    "  MaskId <- 1 # Only processing spots simulated outside of the CC and nucleolus\n",
    "  #SimPath <- paste(MotherFolder,\"XTSimulateRandomSpots_Result\", sep=\"\\\\\")#for windows\n",
    "  SimPath <- paste(MotherFolder,\"XTSimulateRandomSpots_Result\", sep=\"/\")#for linux\n",
    "  n <- 3 #declaring number of segemented channels\n",
    "  delta <- 0.2 #declaring the highest distance threshold for distance between foci\n",
    "  vdelta <- 1 #declaring the highest distance threshold for distance between surface vertices and foci, higher than 1um I get iteration and memory allocation error\n",
    "  #I increased delta from 0.1, because with this value on my test sample, I only get 1% spots having at least one neihboring spot\n",
    "  #STEP1: READ POSITION AND INTENSITY FOR EACH FOCI\n",
    "  Data1 <- data.frame(matrix(,nrow=0, ncol=3)) #will contain positions of spots\n",
    "  Intensity <- data.frame(matrix(,nrow=0, ncol=n+1)) #will contain intensities of spots (n+DAPI)\n",
    "  SimN <- c()\n",
    "  CollectSepSpots <- as.list(rep(\"\", n))\n",
    "  for (ch in seq(0,n-1)) #This loop over the different simulation (total: 5)\n",
    "    {\n",
    "    FilePath <- paste(SimPath, \"/Position_SP0_ST\",MaskId , \"_Sml\",ch,\"_Sim_10000_\", ImageId,\".csv\", sep=\"\") #For linux\n",
    "    #FilePath <- paste(SimPath, \"\\\\Position_SP0_ST\",MaskId , \"_Sml\",ch,\"_Sim_100000_\", ImageId,\".csv\", sep=\"\") #For windows\n",
    "    Spots <- read.csv(file=FilePath, header = TRUE, sep = \",\")\n",
    "    Spots <- as.data.frame(t(Spots))\n",
    "    FilePath <- paste(SimPath, \"/Intensity_SP0_ST\",MaskId , \"_Sml\",ch,\"_Sim_10000_\", ImageId,\".csv\", sep=\"\") #For linux\n",
    "    #FilePath <- paste(SimPath, \"\\\\Intensity_SP0_ST\",MaskId , \"_Sml\",ch,\"_Sim_100000_\", ImageId,\".csv\", sep=\"\")#For windows\n",
    "    Int <- read.csv(file=FilePath, header = TRUE, sep = \",\")\n",
    "    print(paste0(\"Sp\", dim(Spots)))\n",
    "    Data1 <- rbind(Data1, Spots)\n",
    "    print(paste0(\"Sp\", dim(Int)))\n",
    "    Intensity <- rbind(Intensity, Int)\n",
    "    SimN <- c(SimN, rep(-1*(ch+1),nrow(Spots))) #vector to keep track of simulation ID\n",
    "    CollectSepSpots[[ch+1]] <- Spots\n",
    "    rm(Int, Spots) #Free RAM\n",
    "    print(ch)\n",
    "  }\n",
    "  names(Intensity) <- paste0(\"IntensityCh\", seq(0,n))\n",
    "  Intensity$FociType <- SimN\n",
    "  Intensity$SegmentChannel <- 0\n",
    "  Intensity$SpotId <- seq(1, nrow(Data1))\n",
    "  #STEP2: CALCULATE DISTANCE BETWEEN EACH SPOT AND SURFACES\n",
    "  for (surfName in c(\"Nucleus\",\"Chromocenters\",\"Nucleolus\")){\n",
    "    ColName <- paste0(surfName, \"Dist\")\n",
    "    FilePath <- paste(MotherFolder, \"/XTGetSurfaceVertices_Result/\", surfName, \" Vertices_\",ImageIdVert,\".csv\", sep=\"\") #For linux  \n",
    "    #FilePath <- paste(MotherFolder, \"\\\\XTGetSurfaceVertices_Result\\\\\", surfName, \" Vertices_\",ImageIdVert,\".csv\", sep=\"\") #For windows  \n",
    "    Vertices <- read.csv(file=FilePath, header = TRUE, sep = \",\")\n",
    "    res<-CalculateSpotDistance(Vertices, Data1, vdelta, FileName, surfName) \n",
    "    Features <- paste0(surfName, c(\"_NumbSpot\",\"_MeanDist\", \"_MinDist\", \"_MaxDist\"))\n",
    "    colnames(res) <- c(\"SpotId\", Features)\n",
    "    Intensity <- merge(Intensity, res,by = \"SpotId\", all.x=TRUE)\n",
    "    rm(Vertices) #Free RAM  \n",
    "    print(surfName)\n",
    "  }\n",
    "  #STEP3: CALCULATE DISTANCE BETWEEN FOCI\n",
    "  for (ch in seq(1, n))\n",
    "    {\n",
    "    res<-CalculateSpotDistance(CollectSepSpots[[ch]], Data1, delta, FileName, paste(\"Channel\", ch,sep=\"\"))\n",
    "    Features <- paste0(paste0(\"Sp\", ch), c(\"NumbSpot\",\"MeanDist\", \"MinDist\", \"MaxDist\"))\n",
    "    colnames(res) <- c(\"SpotId\", Features)\n",
    "    Intensity <- merge(Intensity, res, all=TRUE)\n",
    "  }\n",
    "  rm(SimN, CollectSepSpots, res) #free RAM space\n",
    "  #STEP4 : CALCULATE DISTANCE BETWEEN EACH SPOT AND CENTER OF MASS OF EACH SURFACE\n",
    "  FilePath <- paste(SimPath, \"/SurfaceFeatures_\",ImageId ,\".csv\", sep=\"\") # for linux\n",
    "  #FilePath <- paste(SimPath, \"\\\\SurfaceFeatures_\",ImageId ,\".csv\", sep=\"\") #for windows\n",
    "  Surface <- read.csv(file=FilePath, header = TRUE, sep = \",\")\n",
    "  Pos <- Surface[2:4]\n",
    "  Feat <- Surface[5:9]\n",
    "  SurfSPot<-CalculateSpotSurfaceDistance(Data1, Pos, Feat)\n",
    "  Intensity<- merge(Intensity, SurfSPot, all=TRUE)\n",
    "  rm(SurfSPot, Pos,  Surface, Data1) #Free RAM\n",
    "  #STEP5: ADD COLUMNS WITH NUCLEUS AND NUCLEOLUS FEATURES\n",
    "  NucleusF<-Feat[rep(1, nrow(Intensity)),] #this table contains nucleus features \n",
    "  names(NucleusF)<-paste0(\"N1\", names(NucleusF))\n",
    "  Intensity<-cbind(Intensity, NucleusF)\n",
    "  NucleusF<-Feat[rep(2, nrow(Intensity)),] #this table contains nucleolus features\n",
    "  names(NucleusF)<-paste0(\"N2\", names(NucleusF))\n",
    "  Intensity<-cbind(Intensity, NucleusF)\n",
    "  Intensity$File=FileName\n",
    "  rm(NucleusF)\n",
    "  #STEP6: REMOVE OUTLIERS\n",
    "  drops <- c(\"SpotId\",\"FociType\", 'File') \n",
    "  IntensityRf<-Intensity[ , !(names(Intensity) %in% drops)]\n",
    "  Intensity.quantiles <- apply(IntensityRf, 2, function(x, prob=0.9) { quantile(x, prob, names=F, na.rm=TRUE) })\n",
    "  for (j in 1:ncol(IntensityRf)) {\n",
    "      IntensityRf[,j] <- clamp(IntensityRf[,j], Intensity.quantiles[j])  \n",
    "  }\n",
    "  Intensity<-cbind(Intensity[ , (names(Intensity) %in% drops)], IntensityRf)\n",
    "  rm(Intensity.quantiles, IntensityRf)\n",
    "  #STEP7: SCALE NUMERIC SPOT FEATURES\n",
    "  drops <- c(\"SpotId\",\"FociType\",'N1Volume','N1IntensityCh0','N1IntensityCh1', 'N1IntensityCh2', 'N1IntensityCh3', 'N2Volume','N2IntensityCh0','N2IntensityCh1', 'N2IntensityCh2','N2IntensityCh3', 'File',\"Sp1MeanDist\", \"Sp1MinDist\", \"Sp1MaxDist\", \"Sp2MeanDist\", \"Sp2MinDist\", \"Sp2MaxDist\", \"Sp3MeanDist\", \"Sp3MinDist\", \"Sp3MaxDist\") # these features are not to be scaled per image\n",
    "  NormDf<-Intensity[ , !(names(Intensity) %in% drops)]\n",
    "  NormDf<-as.data.frame(scale(NormDf))\n",
    "  Intensity<-cbind(Intensity[ , (names(Intensity) %in% drops)], NormDf)\n",
    "  Intensity\n",
    "}"
   ]
  },
  {
   "cell_type": "code",
   "execution_count": 42,
   "metadata": {},
   "outputs": [],
   "source": [
    "ProcessOneFOlder<-function(HightPath, SelectedIMages, DataType){\n",
    "  Result <- data.frame(matrix(,nrow=0, ncol=51)) #will contain intensities of spots (n+DAPI)\n",
    "  MaskID <- 1 #I only process spots that are simulated outside of chromocenters and nucleolus\n",
    "  for (highFol in c(1))\n",
    "  #for (highFol in c(1,3,4,5))\n",
    "  #for (highFol in c(2)) #folder 2 is the heaviest folder. So I am running it seperately on another pc\n",
    "    {\n",
    "    #GET FILENAMES IN filename FILE CONTAINING ALL FILES AND THEIR PLODY ID\n",
    "    MotherFolder <- paste(HightPath, highFol, sep=\"/\")#for linux\n",
    "    #MotherFolder <- paste(HightPath, highFol, sep=\"\\\\\")#for windows\n",
    "    AllImagesInFolder <- SelectedIMages$FileName[SelectedIMages$FolderID==highFol]  \n",
    "    #GET FILENAME IN PLUGIN XTSimulateRandomSpots_Result FOLDER\n",
    "    FilePath<- paste(MotherFolder,\"XTSimulateRandomSpots_Result\",\"FileName.csv\", sep=\"/\")#for linux\n",
    "    #FilePath<- paste(MotherFolder,\"XTSimulateRandomSpots_Result\",\"FileName.csv\", sep=\"\\\\\")#for windows\n",
    "    FileName <- read.csv(file=FilePath, header = TRUE, sep = \",\")\n",
    "    FileNameSim <- FileName$X0\n",
    "    #GET FILENAME IN PLUGIN XTGetSurfaceVertices_Result FOLDER\n",
    "    FilePath<- paste(MotherFolder,\"XTGetSurfaceVertices_Result\",\"FileName.csv\", sep=\"/\")#for linux\n",
    "    #FilePath<- paste(MotherFolder,\"XTGetSurfaceVertices_Result\",\"FileName.csv\", sep=\"\\\\\")#for windows\n",
    "    FileName <- read.csv(file=FilePath, header = TRUE, sep = \",\")\n",
    "    FileNameVert <- FileName$X0\n",
    "    for(ImageId in AllImagesInFolder){\n",
    "        if (DataType==\"Simulated\"){\n",
    "            SimID <- match(ImageId,FileNameSim)\n",
    "            ImageIdVert <- match(ImageId,FileNameVert)\n",
    "            res<-ProcessOneSimImage(MotherFolder, SimID, ImageIdVert, ImageId, MaskID)          \n",
    "        }\n",
    "        if (DataType==\"Segmented\"){\n",
    "            ObsID <- match(ImageId,FileNameObs)\n",
    "            res<-ProcessOneImage(MotherFolder, ObsID,SimID , ImageId)\n",
    "        }\n",
    "        Result<-rbind(Result, res)\n",
    "      }\n",
    "    }\n",
    "    rm(res)\n",
    "    Nmes <- paste0(\"MLResult_\", DataType, \".csv\")\n",
    "    #FilePath <- paste(MotherFolder, Nmes, sep=\"/\")#for linux\n",
    "    FilePath <- paste(MotherFolder, Nmes, sep=\"\\\\\")#for windows\n",
    "    write.csv(Result, file = FilePath, quote=FALSE, row.names = FALSE) \n",
    "    rm(Result)\n",
    "  }\n"
   ]
  },
  {
   "cell_type": "code",
   "execution_count": 35,
   "metadata": {},
   "outputs": [],
   "source": [
    "\n",
    "MotherFolder <- \"/home/nani/smb4k/BOTSERV4.UZH.CH/gr_ug_ext/mashen2/Result0309/s20_Wt\" #for linux\n",
    "FilePath=paste(MotherFolder, \"FileNames.csv\", sep=\"/\") #on linux\n",
    "#MotherFolder <- \"Z:\\\\Result0309\\\\s20_Wt\" #for windows\n",
    "#FilePath <- paste(MotherFolder, \"FileNames.csv\", sep=\"\\\\\") #on windows\n",
    "SelectedIMages <- read.csv(file=FilePath, header = TRUE, sep = \",\")\n",
    "SelectedIMages <- SelectedIMages[SelectedIMages$Nucleolusok==1, names(SelectedIMages)%in%c(\"FileName\", \"ClusterId\", \"FolderID\")]"
   ]
  },
  {
   "cell_type": "code",
   "execution_count": 22,
   "metadata": {},
   "outputs": [
    {
     "name": "stdout",
     "output_type": "stream",
     "text": [
      "[1] \"Sp10000\" \"Sp3\"    \n",
      "[1] \"Sp10000\" \"Sp4\"    \n",
      "[1] 0\n",
      "[1] \"Sp10000\" \"Sp3\"    \n",
      "[1] \"Sp10000\" \"Sp4\"    \n",
      "[1] 1\n",
      "[1] \"Sp10000\" \"Sp3\"    \n",
      "[1] \"Sp10000\" \"Sp4\"    \n",
      "[1] 2\n",
      "[1] \"Nucleus\"\n",
      "[1] \"Chromocenters\"\n",
      "[1] \"Nucleolus\"\n"
     ]
    }
   ],
   "source": [
    "#MotherFolder <- \"Z:\\\\Result0309\\\\s20_Wt\" #for windows\n",
    "MotherFolder <- paste(MotherFolder, highFol, sep=\"\\\\\")#for windows\n",
    "MotherFolder <- \"/home/nani/smb4k/BOTSERV4.UZH.CH/gr_ug_ext/mashen2/Result0309/s20_Wt\" #for linux\n",
    "MotherFolder <- paste(MotherFolder, highFol, sep=\"/\")#for linux\n",
    "highFol <- \"1\"\n",
    "res <- ProcessOneSimImage(MotherFolder, 1,1, \"FileName\", 1)"
   ]
  },
  {
   "cell_type": "code",
   "execution_count": 14,
   "metadata": {},
   "outputs": [
    {
     "data": {
      "text/html": [
       "<table>\n",
       "<thead><tr><th></th><th scope=col>SpotId</th><th scope=col>FociType</th><th scope=col>File</th><th scope=col>Sp1MeanDist</th><th scope=col>Sp1MinDist</th><th scope=col>Sp1MaxDist</th><th scope=col>Sp2MeanDist</th><th scope=col>Sp2MinDist</th><th scope=col>Sp2MaxDist</th><th scope=col>Sp3MeanDist</th><th scope=col>⋯</th><th scope=col>Sp3NumbSpot</th><th scope=col>NucleusCMDist</th><th scope=col>NucleolusCMDist</th><th scope=col>MeanCCDist</th><th scope=col>ClosestCCCMDist</th><th scope=col>VolumeCC</th><th scope=col>IntensityCh0CC</th><th scope=col>IntensityCh1CC</th><th scope=col>IntensityCh2CC</th><th scope=col>IntensityCh3CC</th></tr></thead>\n",
       "<tbody>\n",
       "\t<tr><th scope=row>1</th><td>1          </td><td>-1         </td><td>FileName   </td><td>0.1468509  </td><td>0.1216553  </td><td>0.1720465  </td><td>0.1138333  </td><td>0.1000000  </td><td>0.1341641  </td><td>0.1624808  </td><td>⋯          </td><td>-0.8599863 </td><td> 0.98861564</td><td> 0.75523260</td><td> 1.3898978 </td><td>NaN        </td><td> 0.8304931 </td><td> 0.08970659</td><td>-0.1791679 </td><td> 0.01780915</td><td> 0.51001446</td></tr>\n",
       "\t<tr><th scope=row>1.1</th><td>2          </td><td>-1         </td><td>FileName   </td><td>       NA  </td><td>       NA  </td><td>       NA  </td><td>0.1131371  </td><td>0.1131371  </td><td>0.1131371  </td><td>       NA  </td><td>⋯          </td><td>        NA </td><td>-1.88869534</td><td>-1.35352728</td><td>-2.4990488 </td><td>NaN        </td><td>-0.7026417 </td><td>-1.54556963</td><td>-1.4051785 </td><td>-1.73772502</td><td>-0.09763833</td></tr>\n",
       "\t<tr><th scope=row>1.2</th><td>3          </td><td>-1         </td><td>FileName   </td><td>       NA  </td><td>       NA  </td><td>       NA  </td><td>0.1720465  </td><td>0.1720465  </td><td>0.1720465  </td><td>0.1328826  </td><td>⋯          </td><td> 0.4678845 </td><td> 0.69941323</td><td> 0.40371185</td><td> 0.7261024 </td><td>NaN        </td><td> 0.8304931 </td><td> 0.08970659</td><td>-0.1791679 </td><td> 0.01780915</td><td> 0.51001446</td></tr>\n",
       "\t<tr><th scope=row>1.3</th><td>4          </td><td>-1         </td><td>FileName   </td><td>0.1697056  </td><td>0.1697056  </td><td>0.1697056  </td><td>       NA  </td><td>       NA  </td><td>       NA  </td><td>0.1790880  </td><td>⋯          </td><td> 1.7957554 </td><td> 0.02402835</td><td> 0.46788155</td><td>-0.1781700 </td><td>NaN        </td><td> 0.8304931 </td><td> 0.08970659</td><td>-0.1791679 </td><td> 0.01780915</td><td> 0.51001446</td></tr>\n",
       "\t<tr><th scope=row>1.4</th><td>5          </td><td>-1         </td><td>FileName   </td><td>0.1421954  </td><td>0.1000000  </td><td>0.1843909  </td><td>0.1841765  </td><td>0.1841765  </td><td>0.1841765  </td><td>0.1595768  </td><td>⋯          </td><td> 0.4678845 </td><td>-0.39321831</td><td> 0.05577974</td><td>-0.4083738 </td><td>NaN        </td><td> 0.8304931 </td><td> 0.08970659</td><td>-0.1791679 </td><td> 0.01780915</td><td> 0.51001446</td></tr>\n",
       "\t<tr><th scope=row>1.5</th><td>6          </td><td>-1         </td><td>FileName   </td><td>       NA  </td><td>       NA  </td><td>       NA  </td><td>0.1886796  </td><td>0.1881515  </td><td>0.1960638  </td><td>0.1886796  </td><td>⋯          </td><td>-0.8599863 </td><td> 0.10642049</td><td> 0.39861039</td><td>-0.5250797 </td><td>NaN        </td><td>-1.2560431 </td><td> 0.95105110</td><td> 1.2543644 </td><td> 1.21631643</td><td>-0.74373739</td></tr>\n",
       "</tbody>\n",
       "</table>\n"
      ],
      "text/latex": [
       "\\begin{tabular}{r|lllllllllllllllllllllllllllllllllllllllllllllllllll}\n",
       "  & SpotId & FociType & File & Sp1MeanDist & Sp1MinDist & Sp1MaxDist & Sp2MeanDist & Sp2MinDist & Sp2MaxDist & Sp3MeanDist & ⋯ & Sp3NumbSpot & NucleusCMDist & NucleolusCMDist & MeanCCDist & ClosestCCCMDist & VolumeCC & IntensityCh0CC & IntensityCh1CC & IntensityCh2CC & IntensityCh3CC\\\\\n",
       "\\hline\n",
       "\t1 & 1           & -1          & FileName    & 0.1468509   & 0.1216553   & 0.1720465   & 0.1138333   & 0.1000000   & 0.1341641   & 0.1624808   & ⋯           & -0.8599863  &  0.98861564 &  0.75523260 &  1.3898978  & NaN         &  0.8304931  &  0.08970659 & -0.1791679  &  0.01780915 &  0.51001446\\\\\n",
       "\t1.1 & 2           & -1          & FileName    &        NA   &        NA   &        NA   & 0.1131371   & 0.1131371   & 0.1131371   &        NA   & ⋯           &         NA  & -1.88869534 & -1.35352728 & -2.4990488  & NaN         & -0.7026417  & -1.54556963 & -1.4051785  & -1.73772502 & -0.09763833\\\\\n",
       "\t1.2 & 3           & -1          & FileName    &        NA   &        NA   &        NA   & 0.1720465   & 0.1720465   & 0.1720465   & 0.1328826   & ⋯           &  0.4678845  &  0.69941323 &  0.40371185 &  0.7261024  & NaN         &  0.8304931  &  0.08970659 & -0.1791679  &  0.01780915 &  0.51001446\\\\\n",
       "\t1.3 & 4           & -1          & FileName    & 0.1697056   & 0.1697056   & 0.1697056   &        NA   &        NA   &        NA   & 0.1790880   & ⋯           &  1.7957554  &  0.02402835 &  0.46788155 & -0.1781700  & NaN         &  0.8304931  &  0.08970659 & -0.1791679  &  0.01780915 &  0.51001446\\\\\n",
       "\t1.4 & 5           & -1          & FileName    & 0.1421954   & 0.1000000   & 0.1843909   & 0.1841765   & 0.1841765   & 0.1841765   & 0.1595768   & ⋯           &  0.4678845  & -0.39321831 &  0.05577974 & -0.4083738  & NaN         &  0.8304931  &  0.08970659 & -0.1791679  &  0.01780915 &  0.51001446\\\\\n",
       "\t1.5 & 6           & -1          & FileName    &        NA   &        NA   &        NA   & 0.1886796   & 0.1881515   & 0.1960638   & 0.1886796   & ⋯           & -0.8599863  &  0.10642049 &  0.39861039 & -0.5250797  & NaN         & -1.2560431  &  0.95105110 &  1.2543644  &  1.21631643 & -0.74373739\\\\\n",
       "\\end{tabular}\n"
      ],
      "text/markdown": [
       "\n",
       "| <!--/--> | SpotId | FociType | File | Sp1MeanDist | Sp1MinDist | Sp1MaxDist | Sp2MeanDist | Sp2MinDist | Sp2MaxDist | Sp3MeanDist | ⋯ | Sp3NumbSpot | NucleusCMDist | NucleolusCMDist | MeanCCDist | ClosestCCCMDist | VolumeCC | IntensityCh0CC | IntensityCh1CC | IntensityCh2CC | IntensityCh3CC | \n",
       "|---|---|---|---|---|---|\n",
       "| 1 | 1           | -1          | FileName    | 0.1468509   | 0.1216553   | 0.1720465   | 0.1138333   | 0.1000000   | 0.1341641   | 0.1624808   | ⋯           | -0.8599863  |  0.98861564 |  0.75523260 |  1.3898978  | NaN         |  0.8304931  |  0.08970659 | -0.1791679  |  0.01780915 |  0.51001446 | \n",
       "| 1.1 | 2           | -1          | FileName    |        NA   |        NA   |        NA   | 0.1131371   | 0.1131371   | 0.1131371   |        NA   | ⋯           |         NA  | -1.88869534 | -1.35352728 | -2.4990488  | NaN         | -0.7026417  | -1.54556963 | -1.4051785  | -1.73772502 | -0.09763833 | \n",
       "| 1.2 | 3           | -1          | FileName    |        NA   |        NA   |        NA   | 0.1720465   | 0.1720465   | 0.1720465   | 0.1328826   | ⋯           |  0.4678845  |  0.69941323 |  0.40371185 |  0.7261024  | NaN         |  0.8304931  |  0.08970659 | -0.1791679  |  0.01780915 |  0.51001446 | \n",
       "| 1.3 | 4           | -1          | FileName    | 0.1697056   | 0.1697056   | 0.1697056   |        NA   |        NA   |        NA   | 0.1790880   | ⋯           |  1.7957554  |  0.02402835 |  0.46788155 | -0.1781700  | NaN         |  0.8304931  |  0.08970659 | -0.1791679  |  0.01780915 |  0.51001446 | \n",
       "| 1.4 | 5           | -1          | FileName    | 0.1421954   | 0.1000000   | 0.1843909   | 0.1841765   | 0.1841765   | 0.1841765   | 0.1595768   | ⋯           |  0.4678845  | -0.39321831 |  0.05577974 | -0.4083738  | NaN         |  0.8304931  |  0.08970659 | -0.1791679  |  0.01780915 |  0.51001446 | \n",
       "| 1.5 | 6           | -1          | FileName    |        NA   |        NA   |        NA   | 0.1886796   | 0.1881515   | 0.1960638   | 0.1886796   | ⋯           | -0.8599863  |  0.10642049 |  0.39861039 | -0.5250797  | NaN         | -1.2560431  |  0.95105110 |  1.2543644  |  1.21631643 | -0.74373739 | \n",
       "\n",
       "\n"
      ],
      "text/plain": [
       "    SpotId FociType File     Sp1MeanDist Sp1MinDist Sp1MaxDist Sp2MeanDist\n",
       "1   1      -1       FileName 0.1468509   0.1216553  0.1720465  0.1138333  \n",
       "1.1 2      -1       FileName        NA          NA         NA  0.1131371  \n",
       "1.2 3      -1       FileName        NA          NA         NA  0.1720465  \n",
       "1.3 4      -1       FileName 0.1697056   0.1697056  0.1697056         NA  \n",
       "1.4 5      -1       FileName 0.1421954   0.1000000  0.1843909  0.1841765  \n",
       "1.5 6      -1       FileName        NA          NA         NA  0.1886796  \n",
       "    Sp2MinDist Sp2MaxDist Sp3MeanDist ⋯ Sp3NumbSpot NucleusCMDist\n",
       "1   0.1000000  0.1341641  0.1624808   ⋯ -0.8599863   0.98861564  \n",
       "1.1 0.1131371  0.1131371         NA   ⋯         NA  -1.88869534  \n",
       "1.2 0.1720465  0.1720465  0.1328826   ⋯  0.4678845   0.69941323  \n",
       "1.3        NA         NA  0.1790880   ⋯  1.7957554   0.02402835  \n",
       "1.4 0.1841765  0.1841765  0.1595768   ⋯  0.4678845  -0.39321831  \n",
       "1.5 0.1881515  0.1960638  0.1886796   ⋯ -0.8599863   0.10642049  \n",
       "    NucleolusCMDist MeanCCDist ClosestCCCMDist VolumeCC   IntensityCh0CC\n",
       "1    0.75523260      1.3898978 NaN              0.8304931  0.08970659   \n",
       "1.1 -1.35352728     -2.4990488 NaN             -0.7026417 -1.54556963   \n",
       "1.2  0.40371185      0.7261024 NaN              0.8304931  0.08970659   \n",
       "1.3  0.46788155     -0.1781700 NaN              0.8304931  0.08970659   \n",
       "1.4  0.05577974     -0.4083738 NaN              0.8304931  0.08970659   \n",
       "1.5  0.39861039     -0.5250797 NaN             -1.2560431  0.95105110   \n",
       "    IntensityCh1CC IntensityCh2CC IntensityCh3CC\n",
       "1   -0.1791679      0.01780915     0.51001446   \n",
       "1.1 -1.4051785     -1.73772502    -0.09763833   \n",
       "1.2 -0.1791679      0.01780915     0.51001446   \n",
       "1.3 -0.1791679      0.01780915     0.51001446   \n",
       "1.4 -0.1791679      0.01780915     0.51001446   \n",
       "1.5  1.2543644      1.21631643    -0.74373739   "
      ]
     },
     "metadata": {},
     "output_type": "display_data"
    }
   ],
   "source": [
    "head(res)"
   ]
  },
  {
   "cell_type": "code",
   "execution_count": null,
   "metadata": {},
   "outputs": [
    {
     "name": "stdout",
     "output_type": "stream",
     "text": [
      "[1] \"Sp10000\" \"Sp3\"    \n",
      "[1] \"Sp10000\" \"Sp4\"    \n",
      "[1] 0\n",
      "[1] \"Sp10000\" \"Sp3\"    \n",
      "[1] \"Sp10000\" \"Sp4\"    \n",
      "[1] 1\n",
      "[1] \"Sp10000\" \"Sp3\"    \n",
      "[1] \"Sp10000\" \"Sp4\"    \n",
      "[1] 2\n",
      "[1] \"Nucleus\"\n",
      "[1] \"Chromocenters\"\n",
      "[1] \"Nucleolus\"\n",
      "[1] \"Sp10000\" \"Sp3\"    \n",
      "[1] \"Sp10000\" \"Sp4\"    \n",
      "[1] 0\n",
      "[1] \"Sp10000\" \"Sp3\"    \n",
      "[1] \"Sp10000\" \"Sp4\"    \n",
      "[1] 1\n",
      "[1] \"Sp10000\" \"Sp3\"    \n",
      "[1] \"Sp10000\" \"Sp4\"    \n",
      "[1] 2\n",
      "[1] \"Nucleus\"\n",
      "[1] \"Chromocenters\"\n",
      "[1] \"Nucleolus\"\n",
      "[1] \"Sp10000\" \"Sp3\"    \n",
      "[1] \"Sp10000\" \"Sp4\"    \n",
      "[1] 0\n",
      "[1] \"Sp10000\" \"Sp3\"    \n",
      "[1] \"Sp10000\" \"Sp4\"    \n",
      "[1] 1\n",
      "[1] \"Sp10000\" \"Sp3\"    \n",
      "[1] \"Sp10000\" \"Sp4\"    \n",
      "[1] 2\n",
      "[1] \"Nucleus\"\n",
      "[1] \"Chromocenters\"\n",
      "[1] \"Nucleolus\"\n",
      "[1] \"Sp10000\" \"Sp3\"    \n",
      "[1] \"Sp10000\" \"Sp4\"    \n",
      "[1] 0\n",
      "[1] \"Sp10000\" \"Sp3\"    \n",
      "[1] \"Sp10000\" \"Sp4\"    \n",
      "[1] 1\n",
      "[1] \"Sp10000\" \"Sp3\"    \n",
      "[1] \"Sp10000\" \"Sp4\"    \n",
      "[1] 2\n",
      "[1] \"Nucleus\"\n",
      "[1] \"Chromocenters\"\n",
      "[1] \"Nucleolus\"\n"
     ]
    }
   ],
   "source": [
    "#MotherFolder <- \"Z:\\\\Result0309\\\\s20_Wt\" #for windows\n",
    "MotherFolder <- \"/home/nani/smb4k/BOTSERV4.UZH.CH/gr_ug_ext/mashen2/Result0309/s20_Wt\" #for linux\n",
    "DataType <- \"Simulated\"\n",
    "ProcessOneFOlder(MotherFolder, SelectedIMages, DataType)"
   ]
  },
  {
   "cell_type": "code",
   "execution_count": null,
   "metadata": {},
   "outputs": [],
   "source": []
  }
 ],
 "metadata": {
  "kernelspec": {
   "display_name": "R",
   "language": "R",
   "name": "ir"
  },
  "language_info": {
   "codemirror_mode": "r",
   "file_extension": ".r",
   "mimetype": "text/x-r-source",
   "name": "R",
   "pygments_lexer": "r",
   "version": "3.2.3"
  }
 },
 "nbformat": 4,
 "nbformat_minor": 2
}
