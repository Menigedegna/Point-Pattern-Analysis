{
 "cells": [
  {
   "cell_type": "markdown",
   "metadata": {},
   "source": [
    "# Clean data, normalise and concatenate plugin results for different images.\n",
    "\n",
    "Each plugin saves .csv files with results for each image in seperate file. This script is used to concantenate, remove outliers and sclae results of different images. "
   ]
  },
  {
   "cell_type": "code",
   "execution_count": 1,
   "metadata": {},
   "outputs": [
    {
     "name": "stderr",
     "output_type": "stream",
     "text": [
      "Loading required package: spam\n",
      "Loading required package: dotCall64\n",
      "Loading required package: grid\n",
      "Warning message in FUN(X[[i]], ...):\n",
      "“failed to assign RegisteredNativeSymbol for toeplitz to toeplitz since toeplitz is already defined in the ‘spam’ namespace”Spam version 2.1-1 (2017-07-02) is loaded.\n",
      "Type 'help( Spam)' or 'demo( spam)' for a short introduction \n",
      "and overview of this package.\n",
      "Help for individual functions is also obtained by adding the\n",
      "suffix '.spam' to the function name, e.g. 'help( chol.spam)'.\n",
      "\n",
      "Attaching package: ‘spam’\n",
      "\n",
      "The following objects are masked from ‘package:base’:\n",
      "\n",
      "    backsolve, forwardsolve\n",
      "\n",
      "\n",
      "Attaching package: ‘reshape2’\n",
      "\n",
      "The following objects are masked from ‘package:data.table’:\n",
      "\n",
      "    dcast, melt\n",
      "\n"
     ]
    }
   ],
   "source": [
    "library(matrixStats) # rowMins()\n",
    "require( spam) #to calculate distances\n",
    "library(data.table)\n",
    "library(ggplot2)\n",
    "library(reshape2)"
   ]
  },
  {
   "cell_type": "markdown",
   "metadata": {},
   "source": [
    "### CalculateSpotDistance()\n",
    "* Calculate distance between spots\n",
    "\n",
    "### CalculateSpotSurfaceDistance()\n",
    "* Calculate distances between spots and surfaces"
   ]
  },
  {
   "cell_type": "code",
   "execution_count": 2,
   "metadata": {
    "collapsed": true
   },
   "outputs": [],
   "source": [
    "#Create function to calcualte distances for a postiion table\n",
    "CalculateSpotDistance<-function(PositionTableX, PositionTableY, DistanceThreshold, fileName, plotType){\n",
    "  #Calculate nearest distance\n",
    "  #Here Posistion Y: DATA1, because we collect @entries with @colindices\n",
    "  ds <- nearest.dist(x=PositionTableX, y=PositionTableY, method = \"euclidean\", delta=DistanceThreshold, upper=NULL)\n",
    "  #Plot histogram = optional\n",
    "    ##for linux\n",
    "  tiff(paste(\"/home/nani/Documents/Plots/\", fileName,\"_\",plotType ,\".tiff\", sep=\"\"))\n",
    "    ##for windows Z:\\\\Result0309\\\\s20_Wt\"\n",
    "  #tiff(paste(\"C:\\\\Documents\\Plots\\\\\", fileName,\"_\",plotType ,\".tiff\", sep=\"\"))\n",
    "    ########\n",
    "  hist(diff( ds@entries),main=paste(\"Distances frequency within delta - \", plotType, sep=\"\"), sub=fileName)\n",
    "  dev.off() \n",
    "  #Get data frame containing min, max, mean distance to next point and number of spots close by (below delta threshold)\n",
    "  ds@colindices<-ds@colindices[ds@entries>0]\n",
    "  ds@entries<-ds@entries[ds@entries>0]\n",
    "  dt <- as.data.table(ds@colindices)[, list(list(ds@entries[.I])), by = ds@colindices]\n",
    "  CollectDist <- data.frame(SpotId = unlist(dt$`ds@colindices`),\n",
    "                            NumbSpot = unlist(dt[,list(lapply(V1,length))]),\n",
    "                            MeanDist = unlist(dt[,list(lapply(V1,mean))]),\n",
    "                            MinDist = unlist(dt[,list(lapply(V1,min))]), \n",
    "                            MaxDist = unlist(dt[,list(lapply(V1,max))])\n",
    "  )\n",
    "  colnames(CollectDist)<-c(\"SpotId\", \"NumbSpot\", \"MeanDist\", \"MinDist\", \"MaxDist\")\n",
    "  CollectDist\n",
    "}\n",
    "\n",
    "#Calculate distance from each surface = set a high delta\n",
    "CalculateSpotSurfaceDistance<-function(SpotPosition, SurfacePosition, SurfaceFeat){\n",
    "  #Note: Here delta is set a high value 100: I want all the distances\n",
    "  #STEP1 : Calculate the distance to center of masses of nucleus, of the nucleolus and all the chromocenters\n",
    "  FirstTab<-SurfacePosition[1:2,] #this table contains postions for Nucleus and nucleolus only\n",
    "  CC<-SurfacePosition[3:nrow(SurfacePosition),] #this one for the CC\n",
    "  CCF<-SurfaceFeat[3:nrow(SurfaceFeat),] #Get CC features\n",
    "  meanCC<-colMeans(CC) #calculate average position for all CC\n",
    "  FirstTab<-rbind(FirstTab, meanCC)\n",
    "  ds <- nearest.dist(x=SpotPosition, y=FirstTab, method = \"euclidean\", delta=100, upper=NULL)\n",
    "  ds <-data.frame(as.matrix(ds))\n",
    "  #STEP2: Get minimum distance spot-CC for each spot\n",
    "  ds2 <- nearest.dist(x=SpotPosition, y=CC, method = \"euclidean\", delta=100, upper=NULL)\n",
    "  MinDistance <- rowMins(as.matrix(ds2))\n",
    "  MinDistanceIndex <- as.matrix(apply( ds2, 1, which.min)) #I need the index as well to get features of the closest CC\n",
    "  rm(ds2)\n",
    "  ds<-cbind(ds, MinDistance)\n",
    "  FeatVect<-CCF[MinDistanceIndex,]\n",
    "  rownames(FeatVect)<-seq(1, nrow(FeatVect))\n",
    "  ds<-cbind(ds, FeatVect)\n",
    "  colnames(ds)<-c(\"Nucleus\", \"Nucleolus\", \"MeanCC\", \"ClosestCC\",paste0(names(FeatVect), \"CC\"))\n",
    "  ds$SpotId <- seq(1, nrow(ds)) #Since I transform spam into a matrix, I get the row = SpotId\n",
    "  ds\n",
    "}\n",
    "clamp <- function(x, xmax) { ifelse(x<=xmax, x, xmax) }"
   ]
  },
  {
   "cell_type": "markdown",
   "metadata": {},
   "source": [
    "### ProcessOneImage()\n",
    "* Read both spot position and intensity data from simualted (from <b>XTSimulateRandomSpots.py</b>) and observed (from <b>XTCountSpotPerShell.py</b>) spots for each image and concatenate them\n",
    "* Calculate distance between spots\n",
    "* Read surface result (from <b>XTSegmentNuclei.py</b>) and calculate distance between surfaces and spots\n",
    "* Replace outliers\n",
    "* Scale data specific for each spot\n",
    "* Return resulting data frame\n"
   ]
  },
  {
   "cell_type": "code",
   "execution_count": 21,
   "metadata": {
    "collapsed": true
   },
   "outputs": [],
   "source": [
    "ProcessOneImage<-function(MotherFolder, ImageIdObs,ImageIdSim , FileName){\n",
    "  n <- 3 #declaring number of segemented channels, there are as many simulated spots\n",
    "  delta <- 0.2 #declaring the highest distance threshold\n",
    "  #I increased delta from 0.1, because with this value on my test sample, I only get 1% spots having at least one neihboring spot\n",
    "  #STEP1: Get positions and intensities of all spots in 2 dataframes\n",
    "  Data1 <- data.frame(matrix(,nrow=0, ncol=3)) #will contain positions of spots\n",
    "  Intensity <- data.frame(matrix(,nrow=0, ncol=n+1)) #will contain intensities of spots (n+DAPI)\n",
    "  ChannelType <- c()#keeps track of spot type\n",
    "  CollectSepSpots <- as.list(rep(\"\", n))\n",
    "  SegmentationIntensity <- c()#keeps track of segmentation intensity\n",
    "  countSpots<-1\n",
    "  for (ch in seq(0,n-1))\n",
    "    {\n",
    "    #Read observed spots' results\n",
    "    FilePath <- paste(MotherFolder, \"/XTCountSpotPerShell_Result/Position_SP\",ch , \"_Obs_\", ImageIdObs,\".csv\", sep=\"\") #For linux\n",
    "    #FilePath <- paste(MotherFolder, \"\\\\XTCountSpotPerShell_Result\\\\Position_SP\",ch , \"_Obs_\", ImageIdObs,\".csv\", sep=\"\") #For windows\n",
    "    Spots <- read.csv(file=FilePath, header = TRUE, sep = \",\")\n",
    "    FilePath <- paste(MotherFolder, \"/XTCountSpotPerShell_Result/Intensity_SP\",ch , \"_Obs_\", ImageIdObs,\".csv\", sep=\"\") #For linux\n",
    "    #FilePath <- paste(MotherFolder, \"\\\\XTCountSpotPerShell_Result\\\\Intensity_SP\",ch , \"_Obs_\", ImageIdObs,\".csv\", sep=\"\")#For windows\n",
    "    Int <- read.csv(file=FilePath, header = TRUE, sep = \",\")\n",
    "    removeNullIntensity <- which(Int[paste(\"X\", ch+1, sep=\"\")]> 0) # keep only spots with intensity >0\n",
    "    Spots <- Spots[removeNullIntensity, ]\n",
    "    Data1 <- rbind(Data1, Spots)\n",
    "    Int <- Int[removeNullIntensity, ]\n",
    "    Intensity <- rbind(Intensity, Int)\n",
    "    SegmentationIntensity<-c(SegmentationIntensity, Int[[ch+1]])\n",
    "    ChannelType <- c(ChannelType, rep(ch+1,nrow(Spots))) #vector to keep track of channel type\n",
    "    CollectSepSpots[[countSpots]] <- Spots\n",
    "    rm(Int, Spots, removeNullIntensity) #Free RAM\n",
    "    # Read simulated spots' results\n",
    "    FilePath <- paste(MotherFolder, \"/XTSimulateRandomSpots_Result/Position_SP0_ST1\" , \"_Sml\",ch,\"_Sim_10000_\", ImageIdSim,\".csv\", sep=\"\") #For linux\n",
    "    #FilePath <- paste(MotherFolder, \"\\\\XTSimulateRandomSpots_Result\\\\Position_SP\",MaskId , \"_Sml\",ch,\"_Sim_100000_\", ImageIdSim,\".csv\", sep=\"\") #For windows\n",
    "    Spots <- read.csv(file=FilePath, header = TRUE, sep = \",\")\n",
    "    Spots <- as.data.frame(t(Spots)) #see Note Plugin\n",
    "    names(Spots)<-names(Data1)\n",
    "    FilePath <- paste(MotherFolder, \"/XTSimulateRandomSpots_Result/Intensity_SP0_ST1\" , \"_Sml\",ch,\"_Sim_10000_\", ImageIdSim,\".csv\", sep=\"\") #For linux\n",
    "    #FilePath <- paste(MotherFolder, \"\\\\XTSimulateRandomSpots_Result\\\\Intensity_SP\",MaskId , \"_Sml\",ch,\"_Sim_100000_\", ImageIdSim,\".csv\", sep=\"\")#For windows\n",
    "    Int <- read.csv(file=FilePath, header = TRUE, sep = \",\")\n",
    "    Data1 <- rbind(Data1, Spots)\n",
    "    names(Int)<-names(Intensity)\n",
    "    Intensity <- rbind(Intensity, Int)  \n",
    "    SegmentationIntensity<-c(SegmentationIntensity,rep(0, nrow(Int)))\n",
    "    ChannelType <- c(ChannelType, rep(-1*(ch+1),nrow(Spots))) #vector to keep track of simulation ID\n",
    "    CollectSepSpots[[countSpots+1]] <- Spots\n",
    "    rm(Int, Spots) #Free RAM\n",
    "    countSpots<-countSpots+2\n",
    "    print(ch)\n",
    "  }\n",
    "  names(Intensity) = paste0(\"IntensityCh\", seq(0,n))\n",
    "  Intensity$FociType=ChannelType\n",
    "  Intensity$SegmentChannel <- SegmentationIntensity\n",
    "  rm(ChannelType, SegmentationIntensity)\n",
    "  #STEP2 : Calculate distances between spots\n",
    "  Intensity$SpotId=seq(1, nrow(Data1))\n",
    "  s <- c(paste0(\"Sp\", seq(1,n)), paste0(\"Sim\", seq(1,n)))\n",
    "  for (ch in seq(1, 2*n))\n",
    "    {\n",
    "    res<-CalculateSpotDistance(CollectSepSpots[[ch]], Data1, delta, FileName, paste(\"Channel\", ch,sep=\"\"))\n",
    "    Features <- paste0(s[ch], c(\"NumbSpot\",\"MeanDist\", \"MinDist\", \"MaxDist\"))\n",
    "    colnames(res) <- c(\"SpotId\", Features)\n",
    "    Intensity <- merge(Intensity, res, all=TRUE)\n",
    "  }\n",
    "  rm(CollectSepSpots, res) #free RAM space\n",
    "  #STEP3 : Read SurfaceFeatures file and calculate spot-surface distances\n",
    "  FilePath <- paste(MotherFolder, \"/XTSimulateRandomSpots_Result//SurfaceFeatures_\",ImageIdSim ,\".csv\", sep=\"\") # for linux\n",
    "  #FilePath <- paste(MotherFolder, \"\\\\XTSimulateRandomSpots_Result/\\\\SurfaceFeatures_\",ImageIdSim ,\".csv\", sep=\"\") #for windows\n",
    "  Surface <- read.csv(file=FilePath, header = TRUE, sep = \",\")\n",
    "  Pos <- Surface[2:4]\n",
    "  Feat <- Surface[5:9]\n",
    "  SurfSPot<-CalculateSpotSurfaceDistance(Data1, Pos, Feat)\n",
    "  Intensity<- merge(Intensity, SurfSPot, all=TRUE)\n",
    "  rm(SurfSPot, Pos,  Surface, Data1) #Free RAM\n",
    "  #STEP4: Add in columns with nucleus and nucleolus features\n",
    "  NucleusF<-Feat[rep(1, nrow(Intensity)),] #this table contains nucleus features \n",
    "  names(NucleusF)<-paste0(\"N1\", names(NucleusF))\n",
    "  Intensity<-cbind(Intensity, NucleusF)\n",
    "  NucleusF<-Feat[rep(2, nrow(Intensity)),] #this table contains nucleolus features\n",
    "  names(NucleusF)<-paste0(\"N2\", names(NucleusF))\n",
    "  Intensity<-cbind(Intensity, NucleusF)\n",
    "  Intensity$File<-FileName\n",
    "  rm(NucleusF)\n",
    "  #Replace outliers with max and min values for each column\n",
    "  #Summary Data befoe clamp = optional\n",
    "  #mylist<-lapply(Intensity, summary)\n",
    "  #txtPath<-'/home/nani/Documents/Plots/SummaryBeforeClamp.txt'\n",
    "  #lapply(mylist, write, txtPath, append=TRUE) \n",
    "  drops <- c(\"SpotId\",\"FociType\", 'File') \n",
    "  IntensityRf<-Intensity[ , !(names(Intensity) %in% drops)]\n",
    "  Intensity.quantiles <- apply(IntensityRf, 2, function(x, prob=0.9) { quantile(x, prob, names=F, na.rm=TRUE) })\n",
    "  for (j in 1:ncol(IntensityRf)) {\n",
    "      IntensityRf[,j] <- clamp(IntensityRf[,j], Intensity.quantiles[j])  \n",
    "  }\n",
    "  Intensity<-cbind(Intensity[ , (names(Intensity) %in% drops)], IntensityRf)\n",
    "  rm(Intensity.quantiles, IntensityRf)\n",
    "  #Summary Data after clamp = optional \n",
    "  #mylist<-lapply(Intensity, summary)\n",
    "  #txtPath<-'/home/nani/Documents/Plots/SummaryAfterClamp.txt'\n",
    "  #lapply(mylist, write, txtPath, append=TRUE) \n",
    "  #Scale selected features\n",
    "  drops <- c(\"SpotId\",\"FociType\",'N1Volume','N1IntensityCh0','N1IntensityCh1', 'N1IntensityCh2', 'N1IntensityCh3', 'N2Volume','N2IntensityCh0','N2IntensityCh1', 'N2IntensityCh2','N2IntensityCh3', 'File',\"Sp1MeanDist\", \"Sp1MinDist\", \"Sp1MaxDist\", \"Sp2MeanDist\", \"Sp2MinDist\", \"Sp2MaxDist\", \"Sp3MeanDist\", \"Sp3MinDist\", \"Sp3MaxDist\") # these features are not to be scaled per image\n",
    "  NormDf<-Intensity[ , !(names(Intensity) %in% drops)]\n",
    "  NormDf<-as.data.frame(scale(NormDf))\n",
    "  Intensity<-cbind(Intensity[ , (names(Intensity) %in% drops)], NormDf)\n",
    "  Intensity\n",
    "}\n"
   ]
  },
  {
   "cell_type": "markdown",
   "metadata": {},
   "source": [
    "## Step 1 : Test run on one image"
   ]
  },
  {
   "cell_type": "code",
   "execution_count": 6,
   "metadata": {
    "scrolled": true
   },
   "outputs": [
    {
     "name": "stdout",
     "output_type": "stream",
     "text": [
      "[1] 0\n",
      "[1] 1\n",
      "[1] 2\n"
     ]
    }
   ],
   "source": [
    "FolderPath= #*Add folder path*\n",
    "Index_of_observed_Image=#*Add index*\n",
    "Index_of_simulated_Image=#*Add index*\n",
    "res<-ProcessOneImage(FolderPath, Index_of_observed_Image,Index_of_simulated_Image, \"FileName\")\n",
    "head(res)"
   ]
  },
  {
   "cell_type": "markdown",
   "metadata": {},
   "source": [
    "### SelectFiles()\n",
    "* Read the all the filenames in all folders \n",
    "* Select only filenames that has both simulated (from <b>XTSimulateRandomSpots.py</b>) and observed data (from <b>XTCountSpotPerShell.py</b>)\n",
    "* Read ploidy result (from <b>XTNucleiPloidy.py</b>)\n",
    "* Select results of images contained in both XTSimulateRandomSpots_Result and XTCountSpotPerShell_Result\n",
    "* Save a .csv file containing two columns: filenames and ploidy index\n"
   ]
  },
  {
   "cell_type": "code",
   "execution_count": 19,
   "metadata": {
    "collapsed": true
   },
   "outputs": [],
   "source": [
    "SelectFiles <- function(FolderPath)\n",
    "    {\n",
    "      Data1 <- data.frame(matrix(,nrow=0, ncol=2)) #will contain positions of spots\n",
    "      for (SubFolder in c(1,2,3,4,5))\n",
    "        {\n",
    "        FilePath<- paste(MotherFolder,SubFolder,  \"XTCountSpotPerShell_Result\",\"FileName.csv\" , sep=\"/\") # for linux\n",
    "        # FilePath<- paste(MotherFolder,SubFolder, \"XTCountSpotPerShell_Result\",\"FileName.csv\", sep=\"\\\\\") # for windows\n",
    "        OBsdf <- read.csv(file=FilePath, header = TRUE, sep = \",\")\n",
    "        FilePath<- paste(MotherFolder,SubFolder,  \"XTSimulateRandomSpots_Result\",\"FileName.csv\" , sep=\"/\") #for linux\n",
    "        # FilePath<- paste(MotherFolder,SubFolder, \"XTSimulateRandomSpots_Result\",\"FileName.csv\", sep=\"\\\\\") # for windows\n",
    "        Simdf <- read.csv(file=FilePath, header = TRUE, sep = \",\")\n",
    "        df<-merge(OBsdf, Simdf, all = FALSE)\n",
    "        df$FolderID<-SubFolder\n",
    "        Data1<-rbind(Data1, df)\n",
    "      }\n",
    "    names(Data1)<-c(\"FileName\", \"FolderID\")\n",
    "    FilePath<- paste(MotherFolder,\"XTNucleiPloidy_Result\", \"XTNucleiPloidy_Result.csv\" , sep=\"/\")\n",
    "    PLoidyDf <- read.csv(file=FilePath, header = TRUE, sep = \",\")\n",
    "    Data1<-merge(Data1, PLoidyDf, all = FALSE)\n",
    "    Data1<-Data1[, names(Data1)%in%c(\"FileName\",\"FolderID\", \"ClusterId\")]\n",
    "    Data1\n",
    "}"
   ]
  },
  {
   "cell_type": "code",
   "execution_count": 22,
   "metadata": {
    "collapsed": true
   },
   "outputs": [],
   "source": [
    "FileName<-SelectFiles(FolderPath)\n",
    "FilePath=paste(FolderPath, \"FileNames.csv\", sep=\"/\")\n",
    "write.csv(FileName, file = FilePath, quote=FALSE, row.names = FALSE)"
   ]
  },
  {
   "cell_type": "markdown",
   "metadata": {},
   "source": [
    "## Step 2 : Manually rate the segmentation quality good (true) bad (false)\n",
    "* Open FileNames.csv, add a column SegmentationOk\n",
    "* index the segmentation quality (TRUE/FALSE) based on the snapshots in XTCountSpotPerShell.py"
   ]
  },
  {
   "cell_type": "code",
   "execution_count": 9,
   "metadata": {},
   "outputs": [
    {
     "data": {
      "text/html": [
       "<table>\n",
       "<thead><tr><th scope=col>FileName</th><th scope=col>ClusterId</th><th scope=col>SegmentationOk</th><th scope=col>FolderID</th></tr></thead>\n",
       "<tbody>\n",
       "\t<tr><td>s20_wt_aa_series005.ims</td><td>P0                     </td><td>1                      </td><td>1                      </td></tr>\n",
       "\t<tr><td>s20_wt_ab_series006.ims</td><td>P0                     </td><td>1                      </td><td>1                      </td></tr>\n",
       "\t<tr><td>s20_wt_ac_series007.ims</td><td>P0                     </td><td>1                      </td><td>1                      </td></tr>\n",
       "\t<tr><td>s20_wt_ad_series008.ims</td><td>P0                     </td><td>1                      </td><td>1                      </td></tr>\n",
       "\t<tr><td>s20_wt_ae_series009.ims</td><td>P0                     </td><td>1                      </td><td>1                      </td></tr>\n",
       "\t<tr><td>s20_wt_am_series017.ims</td><td>P0                     </td><td>1                      </td><td>2                      </td></tr>\n",
       "</tbody>\n",
       "</table>\n"
      ],
      "text/latex": [
       "\\begin{tabular}{r|llll}\n",
       " FileName & ClusterId & SegmentationOk & FolderID\\\\\n",
       "\\hline\n",
       "\t s20\\_wt\\_aa\\_series005.ims & P0                            & 1                             & 1                            \\\\\n",
       "\t s20\\_wt\\_ab\\_series006.ims & P0                            & 1                             & 1                            \\\\\n",
       "\t s20\\_wt\\_ac\\_series007.ims & P0                            & 1                             & 1                            \\\\\n",
       "\t s20\\_wt\\_ad\\_series008.ims & P0                            & 1                             & 1                            \\\\\n",
       "\t s20\\_wt\\_ae\\_series009.ims & P0                            & 1                             & 1                            \\\\\n",
       "\t s20\\_wt\\_am\\_series017.ims & P0                            & 1                             & 2                            \\\\\n",
       "\\end{tabular}\n"
      ],
      "text/markdown": [
       "\n",
       "FileName | ClusterId | SegmentationOk | FolderID | \n",
       "|---|---|---|---|---|---|\n",
       "| s20_wt_aa_series005.ims | P0                      | 1                       | 1                       | \n",
       "| s20_wt_ab_series006.ims | P0                      | 1                       | 1                       | \n",
       "| s20_wt_ac_series007.ims | P0                      | 1                       | 1                       | \n",
       "| s20_wt_ad_series008.ims | P0                      | 1                       | 1                       | \n",
       "| s20_wt_ae_series009.ims | P0                      | 1                       | 1                       | \n",
       "| s20_wt_am_series017.ims | P0                      | 1                       | 2                       | \n",
       "\n",
       "\n"
      ],
      "text/plain": [
       "  FileName                ClusterId SegmentationOk FolderID\n",
       "1 s20_wt_aa_series005.ims P0        1              1       \n",
       "2 s20_wt_ab_series006.ims P0        1              1       \n",
       "3 s20_wt_ac_series007.ims P0        1              1       \n",
       "4 s20_wt_ad_series008.ims P0        1              1       \n",
       "5 s20_wt_ae_series009.ims P0        1              1       \n",
       "6 s20_wt_am_series017.ims P0        1              2       "
      ]
     },
     "metadata": {},
     "output_type": "display_data"
    }
   ],
   "source": [
    "FilePath=paste(FolderPath, \"FileNames.csv\", sep=\"/\") #on linux\n",
    "#FilePath=paste(MotherFolder, \"FileNames.csv\", sep=\"\\\\\") #on windows\n",
    "SelectedIMages <- read.csv(file=FilePath, header = TRUE, sep = \",\")\n",
    "head(SelectedIMages)"
   ]
  },
  {
   "cell_type": "code",
   "execution_count": 11,
   "metadata": {
    "scrolled": false
   },
   "outputs": [
    {
     "data": {
      "text/html": [
       "<table>\n",
       "<thead><tr><th scope=col>FileName</th><th scope=col>ClusterId</th><th scope=col>FolderID</th></tr></thead>\n",
       "<tbody>\n",
       "\t<tr><td>s20_wt_aa_series005.ims</td><td>P0                     </td><td>1                      </td></tr>\n",
       "\t<tr><td>s20_wt_ab_series006.ims</td><td>P0                     </td><td>1                      </td></tr>\n",
       "\t<tr><td>s20_wt_ac_series007.ims</td><td>P0                     </td><td>1                      </td></tr>\n",
       "\t<tr><td>s20_wt_ad_series008.ims</td><td>P0                     </td><td>1                      </td></tr>\n",
       "\t<tr><td>s20_wt_ae_series009.ims</td><td>P0                     </td><td>1                      </td></tr>\n",
       "\t<tr><td>s20_wt_am_series017.ims</td><td>P0                     </td><td>2                      </td></tr>\n",
       "</tbody>\n",
       "</table>\n"
      ],
      "text/latex": [
       "\\begin{tabular}{r|lll}\n",
       " FileName & ClusterId & FolderID\\\\\n",
       "\\hline\n",
       "\t s20\\_wt\\_aa\\_series005.ims & P0                            & 1                            \\\\\n",
       "\t s20\\_wt\\_ab\\_series006.ims & P0                            & 1                            \\\\\n",
       "\t s20\\_wt\\_ac\\_series007.ims & P0                            & 1                            \\\\\n",
       "\t s20\\_wt\\_ad\\_series008.ims & P0                            & 1                            \\\\\n",
       "\t s20\\_wt\\_ae\\_series009.ims & P0                            & 1                            \\\\\n",
       "\t s20\\_wt\\_am\\_series017.ims & P0                            & 2                            \\\\\n",
       "\\end{tabular}\n"
      ],
      "text/markdown": [
       "\n",
       "FileName | ClusterId | FolderID | \n",
       "|---|---|---|---|---|---|\n",
       "| s20_wt_aa_series005.ims | P0                      | 1                       | \n",
       "| s20_wt_ab_series006.ims | P0                      | 1                       | \n",
       "| s20_wt_ac_series007.ims | P0                      | 1                       | \n",
       "| s20_wt_ad_series008.ims | P0                      | 1                       | \n",
       "| s20_wt_ae_series009.ims | P0                      | 1                       | \n",
       "| s20_wt_am_series017.ims | P0                      | 2                       | \n",
       "\n",
       "\n"
      ],
      "text/plain": [
       "  FileName                ClusterId FolderID\n",
       "1 s20_wt_aa_series005.ims P0        1       \n",
       "2 s20_wt_ab_series006.ims P0        1       \n",
       "3 s20_wt_ac_series007.ims P0        1       \n",
       "4 s20_wt_ad_series008.ims P0        1       \n",
       "5 s20_wt_ae_series009.ims P0        1       \n",
       "6 s20_wt_am_series017.ims P0        2       "
      ]
     },
     "metadata": {},
     "output_type": "display_data"
    }
   ],
   "source": [
    "### Here only images index True for SegmentationOk are selected\n",
    "SelectedIMages<-SelectedIMages[SelectedIMages$SegmentationOk==1, names(SelectedIMages)%in%c(\"FileName\", \"ClusterId\", \"FolderID\")]\n",
    "\n",
    "head(SelectedIMages)"
   ]
  },
  {
   "cell_type": "markdown",
   "metadata": {},
   "source": [
    "### ProcessOneFOlder()\n",
    "* Process results of each images, contained in each subfolder in list list_of_folders stored under HighPath\n",
    "* Select files in FileNames.csv\n"
   ]
  },
  {
   "cell_type": "code",
   "execution_count": 70,
   "metadata": {
    "collapsed": true
   },
   "outputs": [],
   "source": [
    "ProcessOneFOlder<-function(HightPath, SelectedIMages, list_of_folders){\n",
    "  Result <- data.frame(matrix(,nrow=0, ncol=51)) #will contain intensities of spots (n+DAPI)\n",
    "  for (highFol in list_of_folders)\n",
    "    {\n",
    "    Folder_Result <- paste(HightPath, highFol,\"XTSimulateRandomSpots_Result\", sep=\"/\")#for linux\n",
    "    #Folder_Result <- paste(HightPath, highFol,\"XTSimulateRandomSpots_Result\" sep=\"\\\\\")#for windows\n",
    "    AllImagesInFolder <- SelectedIMages$FileName[SelectedIMages$FolderID==highFol]  \n",
    "    FilePath<- paste(Folder_Result,\"FileName.csv\", sep=\"/\")#for linux\n",
    "    # FilePath<- paste(Folder_Result, \"FileName.csv\", sep=\"\\\\\") #for windows\n",
    "    FileName <- read.csv(file=FilePath, header = TRUE, sep = \",\")\n",
    "    FileNameSim <- FileName$X0\n",
    "    for(ImageId in AllImagesInFolder){\n",
    "        SimID <- match(ImageId,FileNameSim)\n",
    "        #ObsID <- match(ImageId,FileNameObs)\n",
    "        #res<-ProcessOneImage(Folder_Result, ObsID,SimID , ImageId)\n",
    "        res<-ProcessOneSimImage(Folder_Result, SimID, ImageId, 0)\n",
    "        Result<-rbind(Result, res)\n",
    "      }\n",
    "    }\n",
    "    rm(res)\n",
    "    FilePath=paste(MotherFolder, \"MLResult.csv\", sep=\"/\")\n",
    "    write.csv(Result, file = FilePath, quote=FALSE, row.names = FALSE) \n",
    "    rm(Result)\n",
    "  }\n"
   ]
  },
  {
   "cell_type": "markdown",
   "metadata": {},
   "source": [
    "## Step 3: Run batch process"
   ]
  },
  {
   "cell_type": "code",
   "execution_count": 71,
   "metadata": {},
   "outputs": [
    {
     "name": "stdout",
     "output_type": "stream",
     "text": [
      "[1] \"Sp10000\" \"Sp3\"    \n",
      "[1] \"Sp10000\" \"Sp4\"    \n",
      "[1] 0\n",
      "[1] \"Sp10000\" \"Sp3\"    \n",
      "[1] \"Sp10000\" \"Sp4\"    \n",
      "[1] 1\n",
      "[1] \"Sp10000\" \"Sp3\"    \n",
      "[1] \"Sp10000\" \"Sp4\"    \n",
      "[1] 2\n",
      "[1] \"Sp10000\" \"Sp3\"    \n",
      "[1] \"Sp10000\" \"Sp4\"    \n",
      "[1] 0\n",
      "[1] \"Sp10000\" \"Sp3\"    \n",
      "[1] \"Sp10000\" \"Sp4\"    \n",
      "[1] 1\n",
      "[1] \"Sp10000\" \"Sp3\"    \n",
      "[1] \"Sp10000\" \"Sp4\"    \n",
      "[1] 2\n",
      "[1] \"Sp10000\" \"Sp3\"    \n",
      "[1] \"Sp10000\" \"Sp4\"    \n",
      "[1] 0\n",
      "[1] \"Sp10000\" \"Sp3\"    \n",
      "[1] \"Sp10000\" \"Sp4\"    \n",
      "[1] 1\n",
      "[1] \"Sp10000\" \"Sp3\"    \n",
      "[1] \"Sp10000\" \"Sp4\"    \n",
      "[1] 2\n",
      "[1] \"Sp10000\" \"Sp3\"    \n",
      "[1] \"Sp10000\" \"Sp4\"    \n",
      "[1] 0\n",
      "[1] \"Sp10000\" \"Sp3\"    \n",
      "[1] \"Sp10000\" \"Sp4\"    \n",
      "[1] 1\n",
      "[1] \"Sp10000\" \"Sp3\"    \n",
      "[1] \"Sp10000\" \"Sp4\"    \n",
      "[1] 2\n",
      "[1] \"Sp10000\" \"Sp3\"    \n",
      "[1] \"Sp10000\" \"Sp4\"    \n",
      "[1] 0\n",
      "[1] \"Sp10000\" \"Sp3\"    \n",
      "[1] \"Sp10000\" \"Sp4\"    \n",
      "[1] 1\n",
      "[1] \"Sp10000\" \"Sp3\"    \n",
      "[1] \"Sp10000\" \"Sp4\"    \n",
      "[1] 2\n",
      "[1] \"Sp10000\" \"Sp3\"    \n",
      "[1] \"Sp10000\" \"Sp4\"    \n",
      "[1] 0\n",
      "[1] \"Sp10000\" \"Sp3\"    \n",
      "[1] \"Sp10000\" \"Sp4\"    \n",
      "[1] 1\n",
      "[1] \"Sp10000\" \"Sp3\"    \n",
      "[1] \"Sp10000\" \"Sp4\"    \n",
      "[1] 2\n",
      "[1] \"Sp10000\" \"Sp3\"    \n",
      "[1] \"Sp10000\" \"Sp4\"    \n",
      "[1] 0\n",
      "[1] \"Sp10000\" \"Sp3\"    \n",
      "[1] \"Sp10000\" \"Sp4\"    \n",
      "[1] 1\n",
      "[1] \"Sp10000\" \"Sp3\"    \n",
      "[1] \"Sp10000\" \"Sp4\"    \n",
      "[1] 2\n",
      "[1] \"Sp10000\" \"Sp3\"    \n",
      "[1] \"Sp10000\" \"Sp4\"    \n",
      "[1] 0\n",
      "[1] \"Sp10000\" \"Sp3\"    \n",
      "[1] \"Sp10000\" \"Sp4\"    \n",
      "[1] 1\n",
      "[1] \"Sp10000\" \"Sp3\"    \n",
      "[1] \"Sp10000\" \"Sp4\"    \n",
      "[1] 2\n",
      "[1] \"Sp10000\" \"Sp3\"    \n",
      "[1] \"Sp10000\" \"Sp4\"    \n",
      "[1] 0\n",
      "[1] \"Sp10000\" \"Sp3\"    \n",
      "[1] \"Sp10000\" \"Sp4\"    \n",
      "[1] 1\n",
      "[1] \"Sp10000\" \"Sp3\"    \n",
      "[1] \"Sp10000\" \"Sp4\"    \n",
      "[1] 2\n",
      "[1] \"Sp10000\" \"Sp3\"    \n",
      "[1] \"Sp10000\" \"Sp4\"    \n",
      "[1] 0\n",
      "[1] \"Sp10000\" \"Sp3\"    \n",
      "[1] \"Sp10000\" \"Sp4\"    \n",
      "[1] 1\n",
      "[1] \"Sp10000\" \"Sp3\"    \n",
      "[1] \"Sp10000\" \"Sp4\"    \n",
      "[1] 2\n"
     ]
    }
   ],
   "source": [
    "list_of_folders=#*Add vector of folder names saved under FolderPath here* \n",
    "ProcessOneFOlder(FolderPath, SelectedIMages, list_of_folders)"
   ]
  },
  {
   "cell_type": "code",
   "execution_count": null,
   "metadata": {
    "collapsed": true
   },
   "outputs": [],
   "source": []
  }
 ],
 "metadata": {
  "kernelspec": {
   "display_name": "Python 2",
   "language": "python",
   "name": "python2"
  },
  "language_info": {
   "codemirror_mode": {
    "name": "ipython",
    "version": 2
   },
   "file_extension": ".py",
   "mimetype": "text/x-python",
   "name": "python",
   "nbconvert_exporter": "python",
   "pygments_lexer": "ipython2",
   "version": "2.7.13"
  }
 },
 "nbformat": 4,
 "nbformat_minor": 2
}
